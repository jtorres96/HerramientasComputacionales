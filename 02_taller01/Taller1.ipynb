{
 "cells": [
  {
   "cell_type": "markdown",
   "metadata": {
    "collapsed": true
   },
   "source": [
    "# Taller 1 Herramientas Computacionales (IMEC3602)"
   ]
  },
  {
   "cell_type": "markdown",
   "metadata": {},
   "source": [
    "## Juan Daniel Torres Amézquita (201414896)"
   ]
  },
  {
   "cell_type": "code",
   "execution_count": 224,
   "metadata": {},
   "outputs": [
    {
     "name": "stdout",
     "output_type": "stream",
     "text": [
      "Populating the interactive namespace from numpy and matplotlib\n"
     ]
    }
   ],
   "source": [
    "#Se importan los recursos importantes para manejar cálculos y DataFrames.\n",
    "import os\n",
    "import pandas as pd\n",
    "import scipy\n",
    "%pylab inline"
   ]
  },
  {
   "cell_type": "code",
   "execution_count": 225,
   "metadata": {},
   "outputs": [],
   "source": [
    "#A continuación, cargamos los datos de cada ciudad en arreglos distintos (para facilitar el análisis).\n",
    "base_dir = os.path.join( '.','data')\n",
    "output_dir = os.path.join( '.','output')\n",
    "ciudad = 'Barranquilla'\n",
    "fuente = 'IDEAM'\n",
    "serie_csv = os.path.join(base_dir,ciudad,fuente+'.csv')\n",
    "serie_obj_barranquilla = pd.read_csv(serie_csv, sep = ';',\n",
    "                encoding='latin-1')\n",
    "\n",
    "base_dir = os.path.join( '.','data')\n",
    "output_dir = os.path.join( '.','output')\n",
    "ciudad = 'Barranquilla'\n",
    "fuente = 'NREL'\n",
    "serie_csv = os.path.join(base_dir,ciudad,fuente+'.csv')\n",
    "serie_ref_barranquilla = pd.read_csv(serie_csv, sep = ';',\n",
    "                encoding='latin-1')"
   ]
  },
  {
   "cell_type": "code",
   "execution_count": 226,
   "metadata": {},
   "outputs": [],
   "source": [
    "base_dir = os.path.join( '.','data')\n",
    "output_dir = os.path.join( '.','output')\n",
    "ciudad = 'Cali'\n",
    "fuente = 'IDEAM'\n",
    "serie_csv = os.path.join(base_dir,ciudad,fuente+'.csv')\n",
    "serie_obj_cali = pd.read_csv(serie_csv, sep = ';',\n",
    "                encoding='latin-1')\n",
    "\n",
    "base_dir = os.path.join( '.','data')\n",
    "output_dir = os.path.join( '.','output')\n",
    "ciudad = 'Cali'\n",
    "fuente = 'NREL'\n",
    "serie_csv = os.path.join(base_dir,ciudad,fuente+'.csv')\n",
    "serie_ref_cali = pd.read_csv(serie_csv, sep = ';',\n",
    "                encoding='latin-1')"
   ]
  },
  {
   "cell_type": "code",
   "execution_count": 227,
   "metadata": {},
   "outputs": [],
   "source": [
    "base_dir = os.path.join( '.','data')\n",
    "output_dir = os.path.join( '.','output')\n",
    "ciudad = 'Carmendebolivar'\n",
    "fuente = 'IDEAM'\n",
    "serie_csv = os.path.join(base_dir,ciudad,fuente+'.csv')\n",
    "serie_obj_carmendebolivar = pd.read_csv(serie_csv, sep = ';',\n",
    "                encoding='latin-1')\n",
    "\n",
    "base_dir = os.path.join( '.','data')\n",
    "output_dir = os.path.join( '.','output')\n",
    "ciudad = 'Carmendebolivar'\n",
    "fuente = 'NREL'\n",
    "serie_csv = os.path.join(base_dir,ciudad,fuente+'.csv')\n",
    "serie_ref_carmendebolivar = pd.read_csv(serie_csv, sep = ';',\n",
    "                encoding='latin-1')"
   ]
  },
  {
   "cell_type": "code",
   "execution_count": 228,
   "metadata": {},
   "outputs": [],
   "source": [
    "base_dir = os.path.join( '.','data')\n",
    "output_dir = os.path.join( '.','output')\n",
    "ciudad = 'Medellin'\n",
    "fuente = 'IDEAM'\n",
    "serie_csv = os.path.join(base_dir,ciudad,fuente+'.csv')\n",
    "serie_obj_medellin = pd.read_csv(serie_csv, sep = ';',\n",
    "                encoding='latin-1')\n",
    "\n",
    "base_dir = os.path.join( '.','data')\n",
    "output_dir = os.path.join( '.','output')\n",
    "ciudad = 'Medellin'\n",
    "fuente = 'NREL'\n",
    "serie_csv = os.path.join(base_dir,ciudad,fuente+'.csv')\n",
    "serie_ref_medellin = pd.read_csv(serie_csv, sep = ';',\n",
    "                encoding='latin-1')"
   ]
  },
  {
   "cell_type": "code",
   "execution_count": 229,
   "metadata": {},
   "outputs": [],
   "source": [
    "base_dir = os.path.join( '.','data')\n",
    "output_dir = os.path.join( '.','output')\n",
    "ciudad = 'SantaMarta'\n",
    "fuente = 'IDEAM'\n",
    "serie_csv = os.path.join(base_dir,ciudad,fuente+'.csv')\n",
    "serie_obj_santamarta = pd.read_csv(serie_csv, sep = ';',\n",
    "                encoding='latin-1')\n",
    "\n",
    "base_dir = os.path.join( '.','data')\n",
    "output_dir = os.path.join( '.','output')\n",
    "ciudad = 'SantaMarta'\n",
    "fuente = 'NREL'\n",
    "serie_csv = os.path.join(base_dir,ciudad,fuente+'.csv')\n",
    "serie_ref_santamarta = pd.read_csv(serie_csv, sep = ';',\n",
    "                encoding='latin-1')"
   ]
  },
  {
   "cell_type": "code",
   "execution_count": 230,
   "metadata": {},
   "outputs": [],
   "source": [
    "base_dir = os.path.join( '.','data')\n",
    "output_dir = os.path.join( '.','output')\n",
    "ciudad = 'Sucre'\n",
    "fuente = 'IDEAM'\n",
    "serie_csv = os.path.join(base_dir,ciudad,fuente+'.csv')\n",
    "serie_obj_sucre = pd.read_csv(serie_csv, sep = ';',\n",
    "                encoding='latin-1')\n",
    "\n",
    "base_dir = os.path.join( '.','data')\n",
    "output_dir = os.path.join( '.','output')\n",
    "ciudad = 'Sucre'\n",
    "fuente = 'NREL'\n",
    "serie_csv = os.path.join(base_dir,ciudad,fuente+'.csv')\n",
    "serie_ref_sucre = pd.read_csv(serie_csv, sep = ';',\n",
    "                encoding='latin-1')"
   ]
  },
  {
   "cell_type": "code",
   "execution_count": 231,
   "metadata": {},
   "outputs": [],
   "source": [
    "base_dir = os.path.join( '.','data')\n",
    "output_dir = os.path.join( '.','output')\n",
    "ciudad = 'Uribia'\n",
    "fuente = 'IDEAM'\n",
    "serie_csv = os.path.join(base_dir,ciudad,fuente+'.csv')\n",
    "serie_obj_uribia = pd.read_csv(serie_csv, sep = ';',\n",
    "                encoding='latin-1')\n",
    "\n",
    "base_dir = os.path.join( '.','data')\n",
    "output_dir = os.path.join( '.','output')\n",
    "ciudad = 'Uribia'\n",
    "fuente = 'NREL'\n",
    "serie_csv = os.path.join(base_dir,ciudad,fuente+'.csv')\n",
    "serie_ref_uribia = pd.read_csv(serie_csv, sep = ';',\n",
    "                encoding='latin-1')"
   ]
  },
  {
   "cell_type": "code",
   "execution_count": 232,
   "metadata": {},
   "outputs": [],
   "source": [
    "base_dir = os.path.join( '.','data')\n",
    "output_dir = os.path.join( '.','output')\n",
    "ciudad = 'Valledupar'\n",
    "fuente = 'IDEAM'\n",
    "serie_csv = os.path.join(base_dir,ciudad,fuente+'.csv')\n",
    "serie_obj_valledupar = pd.read_csv(serie_csv, sep = ';',\n",
    "                encoding='latin-1')\n",
    "\n",
    "base_dir = os.path.join( '.','data')\n",
    "output_dir = os.path.join( '.','output')\n",
    "ciudad = 'Valledupar'\n",
    "fuente = 'NREL'\n",
    "serie_csv = os.path.join(base_dir,ciudad,fuente+'.csv')\n",
    "serie_ref_valledupar = pd.read_csv(serie_csv, sep = ';',\n",
    "                encoding='latin-1')"
   ]
  },
  {
   "cell_type": "markdown",
   "metadata": {},
   "source": [
    "### Punto 1"
   ]
  },
  {
   "cell_type": "markdown",
   "metadata": {},
   "source": [
    "Función que calcula el ENFICC según la metodología dada en el ejemplo. Primero se hace un arreglo con la información dada por la serie input, y luego se hacen los cálculos de promedio diario y mensual. Finalmente, se obtiene el cuantil para el cual el 99% del tiempo se superará la energía dada por el valor resultado de la función."
   ]
  },
  {
   "cell_type": "code",
   "execution_count": 233,
   "metadata": {},
   "outputs": [],
   "source": [
    "def enficc (serie_horaria): \n",
    "    agnos = sorted(serie_horaria['AÑO'].unique()) \n",
    "    ghi_df_mensual = pd.DataFrame(columns=['AÑO', 'MES', 'DIAS', 'PromedioMes']) \n",
    "    for agno in agnos:\n",
    "        for mes in range(1,13):\n",
    "            nombre_energia = list(serie_horaria)[-1]\n",
    "            dias = sorted(serie_horaria[(serie_horaria['AÑO'] == agno) &\n",
    "                        (serie_horaria['MES'] == mes)]['DIA'].unique())\n",
    "            ghi_mes = serie_horaria.loc[((serie_horaria['AÑO'] == agno)\n",
    "                            & (serie_horaria['MES'] == mes)),\n",
    "                                        nombre_energia].sum()/1000\n",
    "            ghi_dict = {'AÑO':agno, 'MES':mes, 'DIAS':dias[-1],\n",
    "                        'PromedioMes':ghi_mes}\n",
    "            ghi_df_mensual = ghi_df_mensual.append(ghi_dict, ignore_index=True)\n",
    "            \n",
    "    ghi_df_diaria = pd.DataFrame(columns=['AÑO', 'MES', 'PromedioDia'])\n",
    "    for agno in agnos:\n",
    "        for mes in range(1,13):\n",
    "            dias = ghi_df_mensual.loc[((ghi_df_mensual['AÑO'] == agno)\n",
    "                            & (ghi_df_mensual['MES'] == mes))\n",
    "                                         ,'DIAS'].item()\n",
    "            ghi_diario = ghi_df_mensual.loc[(\n",
    "                (ghi_df_mensual['AÑO'] == agno)\n",
    "                            & (ghi_df_mensual['MES'] == mes)),\n",
    "                'PromedioMes'].item()/dias\n",
    "            ghi_dict = {'AÑO':agno, 'MES':mes, 'PromedioDia':ghi_diario}\n",
    "            ghi_df_diaria = ghi_df_diaria.append(ghi_dict, ignore_index=True)\n",
    "            \n",
    "    \n",
    "    ghi_diario_loc = ghi_df_diaria\n",
    "    percentil = 0.01\n",
    "    enficc_value = ghi_diario_loc.quantile(q=percentil, \n",
    "                                 numeric_only=True)['PromedioDia']\n",
    "    print('La ENFICC 99% es: ', enficc_value)\n",
    "    return enficc_value"
   ]
  },
  {
   "cell_type": "markdown",
   "metadata": {},
   "source": [
    "### Punto 2"
   ]
  },
  {
   "cell_type": "markdown",
   "metadata": {},
   "source": [
    "Se comparan dos series horarias distintas. Es importante notar que las series deben pertenecer a la misma ciudad. El resultado, es una gráfica comparativa. Primero, se hacen los promedios diarios y mensuales de cada serie, se guardan en un DataFrame y finalmente se grafican."
   ]
  },
  {
   "cell_type": "code",
   "execution_count": 234,
   "metadata": {},
   "outputs": [],
   "source": [
    "def graph_compare (serie_target, serie_sat):\n",
    "    \n",
    "    agnos = sorted(serie_target['AÑO'].unique())\n",
    "    ghi_df_mensual1 = pd.DataFrame(columns=['AÑO', 'MES', 'DIAS', 'PromedioMes'])\n",
    "    for agno in agnos:\n",
    "        for mes in range(1,13):\n",
    "            nombre_energia = list(serie_target)[-1]\n",
    "            dias = sorted(serie_target[(serie_target['AÑO'] == agno) &\n",
    "                        (serie_target['MES'] == mes)]['DIA'].unique())\n",
    "            ghi_mes1 = serie_target.loc[((serie_target['AÑO'] == agno)\n",
    "                            & (serie_target['MES'] == mes)),\n",
    "                                        nombre_energia].sum()/1000\n",
    "            ghi_dict1 = {'AÑO':agno, 'MES':mes, 'DIAS':dias[-1],\n",
    "                        'PromedioMes':ghi_mes1}\n",
    "            ghi_df_mensual1 = ghi_df_mensual1.append(ghi_dict1, ignore_index=True)\n",
    "            \n",
    "    ghi_df_diaria1 = pd.DataFrame(columns=['AÑO', 'MES', 'PromedioDia'])\n",
    "    for agno in agnos:\n",
    "        for mes in range(1,13):\n",
    "            dias = ghi_df_mensual1.loc[((ghi_df_mensual1['AÑO'] == agno)\n",
    "                            & (ghi_df_mensual1['MES'] == mes))\n",
    "                                         ,'DIAS'].item()\n",
    "            ghi_diario1 = ghi_df_mensual1.loc[(\n",
    "                (ghi_df_mensual1['AÑO'] == agno)\n",
    "                            & (ghi_df_mensual1['MES'] == mes)),\n",
    "                'PromedioMes'].item()/dias\n",
    "            ghi_dict1 = {'AÑO':agno, 'MES':mes, 'PromedioDia':ghi_diario1}\n",
    "            ghi_df_diaria1 = ghi_df_diaria1.append(ghi_dict1, ignore_index=True)\n",
    "            \n",
    "            ghi_diario_loc1 = ghi_df_diaria1\n",
    "            datos_serie1 = sorted(ghi_diario_loc1[\"PromedioDia\"])\n",
    "            \n",
    "            \n",
    "    ghi_df_mensual2 = pd.DataFrame(columns=['AÑO', 'MES', 'DIAS', 'PromedioMes'])\n",
    "    for agno in agnos:\n",
    "        for mes in range(1,13):\n",
    "            nombre_energia = list(serie_sat)[-1]\n",
    "            dias = sorted(serie_sat[(serie_sat['AÑO'] == agno) &\n",
    "                        (serie_sat['MES'] == mes)]['DIA'].unique())\n",
    "            ghi_mes2 = serie_sat.loc[((serie_sat['AÑO'] == agno)\n",
    "                            & (serie_sat['MES'] == mes)),\n",
    "                                        nombre_energia].sum()/1000\n",
    "            ghi_dict2 = {'AÑO':agno, 'MES':mes, 'DIAS':dias[-1],\n",
    "                        'PromedioMes':ghi_mes2}\n",
    "            ghi_df_mensual2 = ghi_df_mensual2.append(ghi_dict2, ignore_index=True)\n",
    "            \n",
    "    ghi_df_diaria2 = pd.DataFrame(columns=['AÑO', 'MES', 'PromedioDia'])\n",
    "    for agno in agnos:\n",
    "        for mes in range(1,13):\n",
    "            dias = ghi_df_mensual2.loc[((ghi_df_mensual2['AÑO'] == agno)\n",
    "                            & (ghi_df_mensual2['MES'] == mes))\n",
    "                                         ,'DIAS'].item()\n",
    "            ghi_diario = ghi_df_mensual2.loc[(\n",
    "                (ghi_df_mensual2['AÑO'] == agno)\n",
    "                            & (ghi_df_mensual2['MES'] == mes)),\n",
    "                'PromedioMes'].item()/dias\n",
    "            ghi_dict2 = {'AÑO':agno, 'MES':mes, 'PromedioDia':ghi_diario}\n",
    "            ghi_df_diaria2 = ghi_df_diaria2.append(ghi_dict2, ignore_index=True)\n",
    "            \n",
    "            ghi_diario_loc2 = ghi_df_diaria2\n",
    "            datos_serie2 = sorted(ghi_diario_loc2[\"PromedioDia\"])\n",
    "            \n",
    "    numdatos = range(len(datos_serie1))\n",
    "    pylab.xlabel(\"Datos\")\n",
    "    pylab.ylabel(\"Energía/Energía Base IDEAM\")\n",
    "    pylab.plot(numdatos,datos_serie1,'-b', label='IDEAM')\n",
    "    pylab.plot(numdatos,datos_serie2,'-r', label='NREL')\n",
    "    pylab.legend(loc='upper left')\n",
    "    figure = pylab.savefig(os.path.join(output_dir,'comparacion.png'), dpi=600)\n",
    "    return figure"
   ]
  },
  {
   "cell_type": "markdown",
   "metadata": {},
   "source": [
    "### Punto 3"
   ]
  },
  {
   "cell_type": "markdown",
   "metadata": {},
   "source": [
    "Ajusta la serie satelital dado un intervalo de 3 meses de serie IDEAM según la metodología MCP. Es importante notar que los argumentos de tiempo tienen que corresponder a la función (es decir, que el tiempo introducido exista en los datos de la serie IDEAM), y las ciudades deben de coincidir. El resultado es un DataFrame con el mismo formato pero con los datos de la serie ajustada.\n",
    "Primero, se corta la serie \"target\" (IDEAM), y luego se cortan los datos correspondientes a ese tiempo en la serie satelital, con el fin de calcular las variables (medias y desviaciones estándar) que compondrán la función de ajuste. Posteriormente, se toman los datos producto de esta función y se introducen a un nuevo DataFrame."
   ]
  },
  {
   "cell_type": "code",
   "execution_count": 235,
   "metadata": {},
   "outputs": [],
   "source": [
    "def ajuste_MCP_3meses(serie_target, serie_sat, agno, mes):\n",
    "    lista1_target = serie_target[(serie_target['AÑO'] == agno) & (serie_target['MES'] == mes)]\n",
    "    lista2_target = serie_target[(serie_target['AÑO'] == agno) & (serie_target['MES'] == mes+1)]                 \n",
    "    lista3_target = serie_target[(serie_target['AÑO'] == agno) & (serie_target['MES'] == mes+2)]\n",
    "    listas_target = [lista1_target, lista2_target, lista3_target]      \n",
    "    serie_ideam_k = pd.concat(listas_target)\n",
    "    \n",
    "    lista1_sat = serie_sat[(serie_sat['AÑO'] == agno) & (serie_sat['MES'] == mes)]\n",
    "    lista2_sat = serie_sat[(serie_sat['AÑO'] == agno) & (serie_sat['MES'] == mes+1)]\n",
    "    lista3_sat = serie_sat[(serie_sat['AÑO'] == agno) & (serie_sat['MES'] == mes+2)]\n",
    "    listas_sat = [lista1_sat, lista2_sat, lista3_sat]\n",
    "    serie_sat_k = pd.concat(listas_sat)\n",
    "    \n",
    "    serie_ajuste = serie_sat.copy(deep=True)\n",
    "    muY = serie_ideam_k['IDEAM'].mean()\n",
    "    muX = serie_sat_k['NREL'].mean()\n",
    "    sigmaY = serie_ideam_k['IDEAM'].std(ddof=0)\n",
    "    sigmaX = serie_sat_k['NREL'].std(ddof=0)\n",
    "    \n",
    "    dat_serie_ajuste = (muY-((sigmaY/sigmaX)*muX))+(((sigmaY/sigmaX))*(serie_sat['NREL']))\n",
    "    \n",
    "    for n in range(1, len(serie_ajuste)):\n",
    "        if dat_serie_ajuste[n] < 0:\n",
    "            dat_serie_ajuste[n] = 0\n",
    "        \n",
    "    serie_ajuste['NREL'] = dat_serie_ajuste\n",
    "    serie_ajuste = serie_ajuste.rename(columns={'NREL':'AJUSTE'})        \n",
    "    return serie_ajuste"
   ]
  },
  {
   "cell_type": "markdown",
   "metadata": {},
   "source": [
    "Ajusta la serie satelital dado un intervalo de 6 meses de serie IDEAM según la metodología MCP."
   ]
  },
  {
   "cell_type": "code",
   "execution_count": 236,
   "metadata": {},
   "outputs": [],
   "source": [
    "def ajuste_MCP_6meses(serie_target, serie_sat, agno, mes):\n",
    "    lista1_target = serie_target[(serie_target['AÑO'] == agno) & (serie_target['MES'] == mes)]\n",
    "    lista2_target = serie_target[(serie_target['AÑO'] == agno) & (serie_target['MES'] == mes+1)]                 \n",
    "    lista3_target = serie_target[(serie_target['AÑO'] == agno) & (serie_target['MES'] == mes+2)]\n",
    "    lista4_target = serie_target[(serie_target['AÑO'] == agno) & (serie_target['MES'] == mes+3)]\n",
    "    lista5_target = serie_target[(serie_target['AÑO'] == agno) & (serie_target['MES'] == mes+4)]                 \n",
    "    lista6_target = serie_target[(serie_target['AÑO'] == agno) & (serie_target['MES'] == mes+5)]\n",
    "    listas_target = [lista1_target, lista2_target, lista3_target, lista4_target, lista5_target, lista6_target]      \n",
    "    serie_ideam_k = pd.concat(listas_target)\n",
    "    \n",
    "    lista1_sat = serie_sat[(serie_sat['AÑO'] == agno) & (serie_sat['MES'] == mes)]\n",
    "    lista2_sat = serie_sat[(serie_sat['AÑO'] == agno) & (serie_sat['MES'] == mes+1)]                 \n",
    "    lista3_sat = serie_sat[(serie_sat['AÑO'] == agno) & (serie_sat['MES'] == mes+2)]\n",
    "    lista4_sat = serie_sat[(serie_sat['AÑO'] == agno) & (serie_sat['MES'] == mes+3)]\n",
    "    lista5_sat = serie_sat[(serie_sat['AÑO'] == agno) & (serie_sat['MES'] == mes+4)]                 \n",
    "    lista6_sat = serie_sat[(serie_sat['AÑO'] == agno) & (serie_sat['MES'] == mes+5)]\n",
    "    listas_sat = [lista1_sat, lista2_sat, lista3_sat, lista4_sat, lista5_sat, lista6_sat]    \n",
    "    serie_sat_k = pd.concat(listas_sat)\n",
    "    \n",
    "    serie_ajuste = serie_sat.copy(deep=True)\n",
    "    muY = serie_ideam_k['IDEAM'].mean()\n",
    "    muX = serie_sat_k['NREL'].mean()\n",
    "    sigmaY = serie_ideam_k['IDEAM'].std(ddof=0)\n",
    "    sigmaX = serie_sat_k['NREL'].std(ddof=0)\n",
    "    \n",
    "    dat_serie_ajuste = (muY-((sigmaY/sigmaX)*muX))+(((sigmaY/sigmaX))*(serie_sat['NREL']))\n",
    "    \n",
    "    for n in range(1, len(serie_ajuste)):\n",
    "        if dat_serie_ajuste[n] < 0:\n",
    "            dat_serie_ajuste[n] = 0\n",
    "        \n",
    "    serie_ajuste['NREL'] = dat_serie_ajuste\n",
    "    serie_ajuste = serie_ajuste.rename(columns={'NREL':'AJUSTE'})        \n",
    "    return serie_ajuste"
   ]
  },
  {
   "cell_type": "markdown",
   "metadata": {},
   "source": [
    "Ajusta la serie satelital dado un intervalo de un año de serie IDEAM según la metodología MCP."
   ]
  },
  {
   "cell_type": "code",
   "execution_count": 237,
   "metadata": {},
   "outputs": [],
   "source": [
    "def ajuste_MCP_agno(serie_target, serie_sat, agno):\n",
    "    \n",
    "    lista_target = serie_target[(serie_target['AÑO'] == agno)]\n",
    "    listas_target = [lista_target]      \n",
    "    serie_ideam_k = pd.concat(listas_target)\n",
    "    \n",
    "    lista_sat = serie_sat[(serie_sat['AÑO'] == agno)]\n",
    "    listas_sat = [lista_sat]    \n",
    "    serie_sat_k = pd.concat(listas_sat)\n",
    "    \n",
    "    serie_ajuste = serie_sat.copy(deep=True)\n",
    "    muY = serie_ideam_k['IDEAM'].mean()\n",
    "    muX = serie_sat_k['NREL'].mean()\n",
    "    sigmaY = serie_ideam_k['IDEAM'].std(ddof=0)\n",
    "    sigmaX = serie_sat_k['NREL'].std(ddof=0)\n",
    "    \n",
    "    dat_serie_ajuste = (muY-((sigmaY/sigmaX)*muX))+(((sigmaY/sigmaX))*(serie_sat['NREL']))\n",
    "    \n",
    "    for n in range(1, len(serie_ajuste)):\n",
    "        if dat_serie_ajuste[n] < 0:\n",
    "            dat_serie_ajuste[n] = 0\n",
    "        \n",
    "    serie_ajuste['NREL'] = dat_serie_ajuste\n",
    "    serie_ajuste = serie_ajuste.rename(columns={'NREL':'AJUSTE'})        \n",
    "    return serie_ajuste"
   ]
  },
  {
   "cell_type": "markdown",
   "metadata": {},
   "source": [
    "A continuación se tienen unas funciones que ayudan a graficar las series para comprobar visualmente la efectividad del ajuste."
   ]
  },
  {
   "cell_type": "code",
   "execution_count": 238,
   "metadata": {},
   "outputs": [],
   "source": [
    "def ghi_mensual(serie_res, serie_horaria):\n",
    "    agnos = sorted(serie_res['AÑO'].unique())\n",
    "    ghi_df = pd.DataFrame(columns=['AÑO', 'MES', 'DIAS', 'PromedioMes'])\n",
    "    for agno in agnos:\n",
    "        for mes in range(1,13):\n",
    "            nombre_energia = list(serie_horaria)[-1]\n",
    "            dias = sorted(serie_horaria[(serie_horaria['AÑO'] == agno) &\n",
    "                        (serie_horaria['MES'] == mes)]['DIA'].unique())\n",
    "            ghi_mes = serie_horaria.loc[((serie_horaria['AÑO'] == agno)\n",
    "                            & (serie_horaria['MES'] == mes)),\n",
    "                                        nombre_energia].sum()/1000\n",
    "            ghi_dict = {'AÑO':agno, 'MES':mes, 'DIAS':dias[-1],\n",
    "                        'PromedioMes':ghi_mes}\n",
    "            ghi_df = ghi_df.append(ghi_dict, ignore_index=True)\n",
    "    return ghi_df\n",
    "\n",
    "def ghi_dia(serie_ghi_mensual):\n",
    "    agnos = sorted(serie_ghi_mensual['AÑO'].unique())\n",
    "    ghi_df = pd.DataFrame(columns=['AÑO', 'MES', 'PromedioDia'])\n",
    "    for agno in agnos:\n",
    "        for mes in range(1,13):\n",
    "            dias = serie_ghi_mensual.loc[((serie_ghi_mensual['AÑO'] == agno)\n",
    "                            & (serie_ghi_mensual['MES'] == mes))\n",
    "                                         ,'DIAS'].item()\n",
    "            ghi_diario = serie_ghi_mensual.loc[(\n",
    "                (serie_ghi_mensual['AÑO'] == agno)\n",
    "                            & (serie_ghi_mensual['MES'] == mes)),\n",
    "                'PromedioMes'].item()/dias\n",
    "            ghi_dict = {'AÑO':agno, 'MES':mes, 'PromedioDia':ghi_diario}\n",
    "            ghi_df = ghi_df.append(ghi_dict, ignore_index=True)\n",
    "    return ghi_df"
   ]
  },
  {
   "cell_type": "markdown",
   "metadata": {},
   "source": [
    "### Punto 4"
   ]
  },
  {
   "cell_type": "markdown",
   "metadata": {},
   "source": [
    "A continuación se calcula el error RMS según la metodología entregada en el documento."
   ]
  },
  {
   "cell_type": "code",
   "execution_count": 305,
   "metadata": {},
   "outputs": [],
   "source": [
    "def calc_RMSEn (serie_obs,serie_mod):\n",
    "    agno = sorted(serie_obs['AÑO'].unique())\n",
    "    obs = serie_obs[(serie_obs['AÑO'] >= agno[0])]\n",
    "    mod = serie_mod[(serie_mod['AÑO'] >= agno[0])]\n",
    "    num_1 = obs.iloc[:,-1].values\n",
    "    num_2 = mod.iloc[:,-1].values\n",
    "    maximo_obs = np.max(num_1) \n",
    "    minimo_obs = np.min(num_1)       \n",
    "    calc = (np.sqrt (((num_1 - num_2)**2).mean()))/ (maximo_obs-minimo_obs) \n",
    "    return calc"
   ]
  },
  {
   "cell_type": "markdown",
   "metadata": {},
   "source": [
    "A continuación se calcula el error MBE según la metodología entregada en el documento."
   ]
  },
  {
   "cell_type": "code",
   "execution_count": 306,
   "metadata": {},
   "outputs": [],
   "source": [
    "def calc_MBE (serie_obs,serie_mod):\n",
    "    agno = sorted(serie_obs['AÑO'].unique())\n",
    "    obs = serie_obs[(serie_obs['AÑO'] >= agno[0])]\n",
    "    mod = serie_mod[(serie_mod['AÑO'] >= agno[0])]\n",
    "    num_1 = obs.iloc[:,-1].values\n",
    "    num_2 = mod.iloc[:,-1].values\n",
    "    resta = num_2-num_1\n",
    "    num = resta.sum()\n",
    "    den = num_1.sum()\n",
    "    calc = abs(num/den)\n",
    "    return calc"
   ]
  },
  {
   "cell_type": "code",
   "execution_count": 307,
   "metadata": {},
   "outputs": [],
   "source": [
    "from scipy import stats"
   ]
  },
  {
   "cell_type": "markdown",
   "metadata": {},
   "source": [
    "A continuación se calcula el error según la metodología Kolmogorov-Smirnov."
   ]
  },
  {
   "cell_type": "code",
   "execution_count": 308,
   "metadata": {},
   "outputs": [],
   "source": [
    "def calc_KSI (serie_obs,serie_mod):\n",
    "    agno = sorted(serie_obs['AÑO'].unique())\n",
    "    obs = serie_obs[(serie_obs['AÑO'] >= agno[0])]\n",
    "    mod = serie_mod[(serie_mod['AÑO'] >= agno[0])]\n",
    "    num_1 = obs.iloc[:,-1].values\n",
    "    num_2 = mod.iloc[:,-1].values\n",
    "    calc = scipy.stats.mstats.ks_2samp(num_1,num_2)\n",
    "    return calc"
   ]
  },
  {
   "cell_type": "markdown",
   "metadata": {},
   "source": [
    "### Punto 5"
   ]
  },
  {
   "cell_type": "markdown",
   "metadata": {},
   "source": [
    "#### Barranquilla"
   ]
  },
  {
   "cell_type": "code",
   "execution_count": 309,
   "metadata": {},
   "outputs": [
    {
     "name": "stdout",
     "output_type": "stream",
     "text": [
      "La ENFICC 99% es:  4.16059025817\n"
     ]
    },
    {
     "data": {
      "text/plain": [
       "4.1605902581736194"
      ]
     },
     "execution_count": 309,
     "metadata": {},
     "output_type": "execute_result"
    }
   ],
   "source": [
    "enficc(serie_obj_barranquilla) #Se obtiene la ENFICC según la serie IDEAM."
   ]
  },
  {
   "cell_type": "code",
   "execution_count": 310,
   "metadata": {},
   "outputs": [
    {
     "name": "stdout",
     "output_type": "stream",
     "text": [
      "La ENFICC 99% es:  4.60594683333\n"
     ]
    },
    {
     "data": {
      "text/plain": [
       "4.6059468333333333"
      ]
     },
     "execution_count": 310,
     "metadata": {},
     "output_type": "execute_result"
    }
   ],
   "source": [
    "enficc(serie_ref_barranquilla) #Se obtiene la ENFICC según la serie NREL."
   ]
  },
  {
   "cell_type": "code",
   "execution_count": 311,
   "metadata": {},
   "outputs": [
    {
     "data": {
      "image/png": "[encoded data removed]",
      "text/plain": [
       "<matplotlib.figure.Figure at 0x7fb3140ff898>"
      ]
     },
     "metadata": {},
     "output_type": "display_data"
    }
   ],
   "source": [
    "graph_compare(serie_obj_barranquilla,serie_ref_barranquilla) #Gráfica comparativa de serie IDEAM vs NREL."
   ]
  },
  {
   "cell_type": "code",
   "execution_count": 312,
   "metadata": {},
   "outputs": [],
   "source": [
    "#Se crean las series ajustadas dependiendo de su temporalidad.\n",
    "barranquilla_ajust_3meses = ajuste_MCP_3meses(serie_obj_barranquilla, serie_ref_barranquilla, 2010, 1)\n",
    "barranquilla_ajust_6meses = ajuste_MCP_6meses(serie_obj_barranquilla, serie_ref_barranquilla, 2010, 1)\n",
    "barranquilla_ajust_agno = ajuste_MCP_agno(serie_obj_barranquilla, serie_ref_barranquilla, 2010)"
   ]
  },
  {
   "cell_type": "code",
   "execution_count": 313,
   "metadata": {},
   "outputs": [
    {
     "name": "stdout",
     "output_type": "stream",
     "text": [
      "La ENFICC 99% es:  4.30591037173\n"
     ]
    },
    {
     "data": {
      "text/plain": [
       "4.3059103717250151"
      ]
     },
     "execution_count": 313,
     "metadata": {},
     "output_type": "execute_result"
    }
   ],
   "source": [
    "enficc(barranquilla_ajust_3meses) #Se obtiene la ENFICC según el ajuste de resolución de 3 meses."
   ]
  },
  {
   "cell_type": "code",
   "execution_count": 314,
   "metadata": {},
   "outputs": [
    {
     "name": "stdout",
     "output_type": "stream",
     "text": [
      "La ENFICC 99% es:  4.35765953143\n"
     ]
    },
    {
     "data": {
      "text/plain": [
       "4.3576595314323328"
      ]
     },
     "execution_count": 314,
     "metadata": {},
     "output_type": "execute_result"
    }
   ],
   "source": [
    "enficc(barranquilla_ajust_6meses) #Se obtiene la ENFICC según el ajuste de resolución de 6 meses."
   ]
  },
  {
   "cell_type": "code",
   "execution_count": 315,
   "metadata": {},
   "outputs": [
    {
     "name": "stdout",
     "output_type": "stream",
     "text": [
      "La ENFICC 99% es:  4.55877095112\n"
     ]
    },
    {
     "data": {
      "text/plain": [
       "4.5587709511229724"
      ]
     },
     "execution_count": 315,
     "metadata": {},
     "output_type": "execute_result"
    }
   ],
   "source": [
    "enficc(barranquilla_ajust_agno) #Se obtiene la ENFICC según el ajuste de resolución de un año."
   ]
  },
  {
   "cell_type": "code",
   "execution_count": 316,
   "metadata": {},
   "outputs": [
    {
     "data": {
      "text/plain": [
       "<matplotlib.legend.Legend at 0x7fb313cfea90>"
      ]
     },
     "execution_count": 316,
     "metadata": {},
     "output_type": "execute_result"
    },
    {
     "data": {
      "image/png": "[encoded data removed]",
      "text/plain": [
       "<matplotlib.figure.Figure at 0x7fb3140ce4e0>"
      ]
     },
     "metadata": {},
     "output_type": "display_data"
    }
   ],
   "source": [
    "#Se grafica el ajuste con resolución de 3 meses.\n",
    "ghi_mensual_ajust = ghi_mensual(serie_obj_barranquilla, barranquilla_ajust_3meses)\n",
    "ghi_diario_ajust = ghi_dia(ghi_mensual_ajust)\n",
    "datos_ajustados = sorted(ghi_diario_ajust['PromedioDia'])\n",
    "\n",
    "ghi_mensual_NREL = ghi_mensual(serie_obj_barranquilla, serie_ref_barranquilla)\n",
    "ghi_diario_NREL = ghi_dia(ghi_mensual_NREL)\n",
    "datos_NREL = sorted(ghi_diario_NREL['PromedioDia'])\n",
    "\n",
    "ghi_mensual_IDEAM = ghi_mensual(serie_obj_barranquilla, serie_obj_barranquilla)\n",
    "ghi_diario_IDEAM = ghi_dia(ghi_mensual_IDEAM)\n",
    "datos_IDEAM = sorted(ghi_diario_IDEAM['PromedioDia'])\n",
    "\n",
    "numdatos_ajustados = range(len(datos_ajustados))\n",
    "numdatos_NREL = range(len(datos_NREL))\n",
    "numdatos_IDEAM = range(len(datos_IDEAM))\n",
    "\n",
    "pylab.title('Ajuste con resolución de tres meses')\n",
    "pylab.plot(numdatos_ajustados,datos_ajustados,'-k', label='Ajustados')\n",
    "pylab.plot(numdatos_NREL,datos_NREL,'-r', label='NREL')\n",
    "pylab.plot(numdatos_IDEAM,datos_IDEAM,'-b', label='IDEAM')\n",
    "pylab.legend(loc='upper left')"
   ]
  },
  {
   "cell_type": "code",
   "execution_count": 317,
   "metadata": {},
   "outputs": [
    {
     "data": {
      "text/plain": [
       "<matplotlib.legend.Legend at 0x7fb3139c3ba8>"
      ]
     },
     "execution_count": 317,
     "metadata": {},
     "output_type": "execute_result"
    },
    {
     "data": {
      "image/png": "[encoded data removed]",
      "text/plain": [
       "<matplotlib.figure.Figure at 0x7fb3144dfc50>"
      ]
     },
     "metadata": {},
     "output_type": "display_data"
    }
   ],
   "source": [
    "#Se grafica el ajuste con resolución de 6 meses.\n",
    "ghi_mensual_ajust = ghi_mensual(serie_obj_barranquilla, barranquilla_ajust_6meses)\n",
    "ghi_diario_ajust = ghi_dia(ghi_mensual_ajust)\n",
    "datos_ajustados = sorted(ghi_diario_ajust['PromedioDia'])\n",
    "\n",
    "ghi_mensual_NREL = ghi_mensual(serie_obj_barranquilla, serie_ref_barranquilla)\n",
    "ghi_diario_NREL = ghi_dia(ghi_mensual_NREL)\n",
    "datos_NREL = sorted(ghi_diario_NREL['PromedioDia'])\n",
    "\n",
    "ghi_mensual_IDEAM = ghi_mensual(serie_obj_barranquilla, serie_obj_barranquilla)\n",
    "ghi_diario_IDEAM = ghi_dia(ghi_mensual_IDEAM)\n",
    "datos_IDEAM = sorted(ghi_diario_IDEAM['PromedioDia'])\n",
    "\n",
    "numdatos_ajustados = range(len(datos_ajustados))\n",
    "numdatos_NREL = range(len(datos_NREL))\n",
    "numdatos_IDEAM = range(len(datos_IDEAM))\n",
    "\n",
    "pylab.title('Ajuste con resolución de seis meses')\n",
    "pylab.plot(numdatos_ajustados,datos_ajustados,'-k', label='Ajustados')\n",
    "pylab.plot(numdatos_NREL,datos_NREL,'-r', label='NREL')\n",
    "pylab.plot(numdatos_IDEAM,datos_IDEAM,'-b', label='IDEAM')\n",
    "pylab.legend(loc='upper left')"
   ]
  },
  {
   "cell_type": "code",
   "execution_count": 318,
   "metadata": {},
   "outputs": [
    {
     "data": {
      "text/plain": [
       "<matplotlib.legend.Legend at 0x7fb31394cbe0>"
      ]
     },
     "execution_count": 318,
     "metadata": {},
     "output_type": "execute_result"
    },
    {
     "data": {
      "image/png": "[encoded data removed]",
      "text/plain": [
       "<matplotlib.figure.Figure at 0x7fb3139f7438>"
      ]
     },
     "metadata": {},
     "output_type": "display_data"
    }
   ],
   "source": [
    "#Se grafica el ajuste con resolución de un año.\n",
    "ghi_mensual_ajust = ghi_mensual(serie_obj_barranquilla, barranquilla_ajust_agno)\n",
    "ghi_diario_ajust = ghi_dia(ghi_mensual_ajust)\n",
    "datos_ajustados = sorted(ghi_diario_ajust['PromedioDia'])\n",
    "\n",
    "ghi_mensual_NREL = ghi_mensual(serie_obj_barranquilla, serie_ref_barranquilla)\n",
    "ghi_diario_NREL = ghi_dia(ghi_mensual_NREL)\n",
    "datos_NREL = sorted(ghi_diario_NREL['PromedioDia'])\n",
    "\n",
    "ghi_mensual_IDEAM = ghi_mensual(serie_obj_barranquilla, serie_obj_barranquilla)\n",
    "ghi_diario_IDEAM = ghi_dia(ghi_mensual_IDEAM)\n",
    "datos_IDEAM = sorted(ghi_diario_IDEAM['PromedioDia'])\n",
    "\n",
    "numdatos_ajustados = range(len(datos_ajustados))\n",
    "numdatos_NREL = range(len(datos_NREL))\n",
    "numdatos_IDEAM = range(len(datos_IDEAM))\n",
    "\n",
    "pylab.title('Ajuste con resolución de un año')\n",
    "pylab.plot(numdatos_ajustados,datos_ajustados,'-k', label='Ajustados')\n",
    "pylab.plot(numdatos_NREL,datos_NREL,'-r', label='NREL')\n",
    "pylab.plot(numdatos_IDEAM,datos_IDEAM,'-b', label='IDEAM')\n",
    "pylab.legend(loc='upper left')"
   ]
  },
  {
   "cell_type": "markdown",
   "metadata": {},
   "source": [
    "Calculamos los errores RMS de la serie referencia y cada serie ajustada:"
   ]
  },
  {
   "cell_type": "code",
   "execution_count": 319,
   "metadata": {},
   "outputs": [
    {
     "data": {
      "text/plain": [
       "0.1067605497750234"
      ]
     },
     "execution_count": 319,
     "metadata": {},
     "output_type": "execute_result"
    }
   ],
   "source": [
    "calc_RMSEn(serie_obj_barranquilla,serie_ref_barranquilla) #Error RMS con respecto a la serie NREL."
   ]
  },
  {
   "cell_type": "code",
   "execution_count": 320,
   "metadata": {},
   "outputs": [
    {
     "data": {
      "text/plain": [
       "0.10452433058446431"
      ]
     },
     "execution_count": 320,
     "metadata": {},
     "output_type": "execute_result"
    }
   ],
   "source": [
    "calc_RMSEn(serie_obj_barranquilla,barranquilla_ajust_3meses) #Error RMS con respecto al ajuste con resolución de 3 meses."
   ]
  },
  {
   "cell_type": "code",
   "execution_count": 321,
   "metadata": {},
   "outputs": [
    {
     "data": {
      "text/plain": [
       "0.10456920220297609"
      ]
     },
     "execution_count": 321,
     "metadata": {},
     "output_type": "execute_result"
    }
   ],
   "source": [
    "calc_RMSEn(serie_obj_barranquilla,barranquilla_ajust_6meses) #Error RMS con respecto al ajuste con resolución de 6 meses."
   ]
  },
  {
   "cell_type": "code",
   "execution_count": 322,
   "metadata": {},
   "outputs": [
    {
     "data": {
      "text/plain": [
       "0.10628148225660763"
      ]
     },
     "execution_count": 322,
     "metadata": {},
     "output_type": "execute_result"
    }
   ],
   "source": [
    "calc_RMSEn(serie_obj_barranquilla,barranquilla_ajust_agno) #Error RMS con respecto al ajuste con resolución de un año."
   ]
  },
  {
   "cell_type": "markdown",
   "metadata": {},
   "source": [
    "Calculamos los errores MBE de la serie referencia y cada serie ajustada:"
   ]
  },
  {
   "cell_type": "code",
   "execution_count": 323,
   "metadata": {},
   "outputs": [
    {
     "data": {
      "text/plain": [
       "0.036987540425613495"
      ]
     },
     "execution_count": 323,
     "metadata": {},
     "output_type": "execute_result"
    }
   ],
   "source": [
    "calc_MBE(serie_obj_barranquilla,serie_ref_barranquilla) #Error MBE con respecto a la serie NREL."
   ]
  },
  {
   "cell_type": "code",
   "execution_count": 324,
   "metadata": {},
   "outputs": [
    {
     "data": {
      "text/plain": [
       "0.027179849064142288"
      ]
     },
     "execution_count": 324,
     "metadata": {},
     "output_type": "execute_result"
    }
   ],
   "source": [
    "calc_MBE(serie_obj_barranquilla,barranquilla_ajust_3meses) #Error MBE con respecto al ajuste con resolución de 3 meses."
   ]
  },
  {
   "cell_type": "code",
   "execution_count": 325,
   "metadata": {},
   "outputs": [
    {
     "data": {
      "text/plain": [
       "0.017048462196718114"
      ]
     },
     "execution_count": 325,
     "metadata": {},
     "output_type": "execute_result"
    }
   ],
   "source": [
    "calc_MBE(serie_obj_barranquilla,barranquilla_ajust_6meses) #Error MBE con respecto al ajuste con resolución de 6 meses."
   ]
  },
  {
   "cell_type": "code",
   "execution_count": 326,
   "metadata": {},
   "outputs": [
    {
     "data": {
      "text/plain": [
       "0.027154521781421054"
      ]
     },
     "execution_count": 326,
     "metadata": {},
     "output_type": "execute_result"
    }
   ],
   "source": [
    "calc_MBE(serie_obj_barranquilla,barranquilla_ajust_agno) #Error MBE con respecto al ajuste con resolución de un año."
   ]
  },
  {
   "cell_type": "markdown",
   "metadata": {},
   "source": [
    "Calculamos los errores KSI de la serie referencia y cada serie ajustada:"
   ]
  },
  {
   "cell_type": "code",
   "execution_count": 327,
   "metadata": {},
   "outputs": [
    {
     "data": {
      "text/plain": [
       "(0.026738171306861569, 9.4236727770893542e-17)"
      ]
     },
     "execution_count": 327,
     "metadata": {},
     "output_type": "execute_result"
    }
   ],
   "source": [
    "calc_KSI(serie_obj_barranquilla,serie_ref_barranquilla) #Error KSI con respecto a la serie NREL."
   ]
  },
  {
   "cell_type": "code",
   "execution_count": 328,
   "metadata": {},
   "outputs": [
    {
     "data": {
      "text/plain": [
       "(0.03337517115472443, 7.2931403030674249e-26)"
      ]
     },
     "execution_count": 328,
     "metadata": {},
     "output_type": "execute_result"
    }
   ],
   "source": [
    "calc_KSI(serie_obj_barranquilla,barranquilla_ajust_3meses) #Error KSI con respecto al ajuste con resolución de 3 meses."
   ]
  },
  {
   "cell_type": "code",
   "execution_count": 329,
   "metadata": {},
   "outputs": [
    {
     "data": {
      "text/plain": [
       "(0.03067472995588055, 6.499204648157872e-22)"
      ]
     },
     "execution_count": 329,
     "metadata": {},
     "output_type": "execute_result"
    }
   ],
   "source": [
    "calc_KSI(serie_obj_barranquilla,barranquilla_ajust_6meses) #Error KSI con respecto al ajuste con resolución de 6 meses."
   ]
  },
  {
   "cell_type": "code",
   "execution_count": 330,
   "metadata": {},
   "outputs": [
    {
     "data": {
      "text/plain": [
       "(0.024322987981134997, 6.1733204561125581e-14)"
      ]
     },
     "execution_count": 330,
     "metadata": {},
     "output_type": "execute_result"
    }
   ],
   "source": [
    "calc_KSI(serie_obj_barranquilla,barranquilla_ajust_agno) #Error KSI con respecto al ajuste con resolución de un año."
   ]
  },
  {
   "cell_type": "markdown",
   "metadata": {},
   "source": [
    "#### Cali"
   ]
  },
  {
   "cell_type": "code",
   "execution_count": 331,
   "metadata": {},
   "outputs": [
    {
     "name": "stdout",
     "output_type": "stream",
     "text": [
      "La ENFICC 99% es:  3.33077931605\n"
     ]
    },
    {
     "data": {
      "text/plain": [
       "3.3307793160475607"
      ]
     },
     "execution_count": 331,
     "metadata": {},
     "output_type": "execute_result"
    }
   ],
   "source": [
    "enficc(serie_obj_cali) #Se obtiene la ENFICC según la serie IDEAM."
   ]
  },
  {
   "cell_type": "code",
   "execution_count": 332,
   "metadata": {},
   "outputs": [
    {
     "name": "stdout",
     "output_type": "stream",
     "text": [
      "La ENFICC 99% es:  4.36085916667\n"
     ]
    },
    {
     "data": {
      "text/plain": [
       "4.3608591666666667"
      ]
     },
     "execution_count": 332,
     "metadata": {},
     "output_type": "execute_result"
    }
   ],
   "source": [
    "enficc(serie_ref_cali) #Se obtiene la ENFICC según la serie NREL."
   ]
  },
  {
   "cell_type": "code",
   "execution_count": 333,
   "metadata": {},
   "outputs": [
    {
     "data": {
      "image/png": "[encoded data removed]",
      "text/plain": [
       "<matplotlib.figure.Figure at 0x7fb313cd1240>"
      ]
     },
     "metadata": {},
     "output_type": "display_data"
    }
   ],
   "source": [
    "graph_compare(serie_obj_cali,serie_ref_cali) #Gráfica comparativa de serie IDEAM vs NREL."
   ]
  },
  {
   "cell_type": "code",
   "execution_count": 334,
   "metadata": {},
   "outputs": [],
   "source": [
    "#Se crean las series ajustadas dependiendo de su temporalidad.\n",
    "cali_ajust_3meses = ajuste_MCP_3meses(serie_obj_cali, serie_ref_cali, 2010, 1)\n",
    "cali_ajust_6meses = ajuste_MCP_6meses(serie_obj_cali, serie_ref_cali, 2010, 1)\n",
    "cali_ajust_agno = ajuste_MCP_agno(serie_obj_cali, serie_ref_cali, 2010)"
   ]
  },
  {
   "cell_type": "code",
   "execution_count": 335,
   "metadata": {},
   "outputs": [
    {
     "name": "stdout",
     "output_type": "stream",
     "text": [
      "La ENFICC 99% es:  3.6492280594\n"
     ]
    },
    {
     "data": {
      "text/plain": [
       "3.649228059397883"
      ]
     },
     "execution_count": 335,
     "metadata": {},
     "output_type": "execute_result"
    }
   ],
   "source": [
    "enficc(cali_ajust_3meses) #Se obtiene la ENFICC según el ajuste de resolución de 3 meses. "
   ]
  },
  {
   "cell_type": "code",
   "execution_count": 336,
   "metadata": {},
   "outputs": [
    {
     "name": "stdout",
     "output_type": "stream",
     "text": [
      "La ENFICC 99% es:  3.65839627779\n"
     ]
    },
    {
     "data": {
      "text/plain": [
       "3.658396277788694"
      ]
     },
     "execution_count": 336,
     "metadata": {},
     "output_type": "execute_result"
    }
   ],
   "source": [
    "enficc(cali_ajust_6meses) #Se obtiene la ENFICC según el ajuste de resolución de 6 meses."
   ]
  },
  {
   "cell_type": "code",
   "execution_count": 337,
   "metadata": {},
   "outputs": [
    {
     "name": "stdout",
     "output_type": "stream",
     "text": [
      "La ENFICC 99% es:  3.65264295714\n"
     ]
    },
    {
     "data": {
      "text/plain": [
       "3.652642957143585"
      ]
     },
     "execution_count": 337,
     "metadata": {},
     "output_type": "execute_result"
    }
   ],
   "source": [
    "enficc(cali_ajust_agno) #Se obtiene la ENFICC según el ajuste de resolución de un año."
   ]
  },
  {
   "cell_type": "code",
   "execution_count": 338,
   "metadata": {},
   "outputs": [
    {
     "data": {
      "text/plain": [
       "<matplotlib.legend.Legend at 0x7fb313d296a0>"
      ]
     },
     "execution_count": 338,
     "metadata": {},
     "output_type": "execute_result"
    },
    {
     "data": {
      "image/png": "[encoded data removed]",
      "text/plain": [
       "<matplotlib.figure.Figure at 0x7fb313c96908>"
      ]
     },
     "metadata": {},
     "output_type": "display_data"
    }
   ],
   "source": [
    "#Se grafica el ajuste con resolución de 3 meses.\n",
    "ghi_mensual_ajust = ghi_mensual(serie_obj_cali, cali_ajust_3meses)\n",
    "ghi_diario_ajust = ghi_dia(ghi_mensual_ajust)\n",
    "datos_ajustados = sorted(ghi_diario_ajust['PromedioDia'])\n",
    "\n",
    "ghi_mensual_NREL = ghi_mensual(serie_obj_cali, serie_ref_cali)\n",
    "ghi_diario_NREL = ghi_dia(ghi_mensual_NREL)\n",
    "datos_NREL = sorted(ghi_diario_NREL['PromedioDia'])\n",
    "\n",
    "ghi_mensual_IDEAM = ghi_mensual(serie_obj_cali, serie_obj_cali)\n",
    "ghi_diario_IDEAM = ghi_dia(ghi_mensual_IDEAM)\n",
    "datos_IDEAM = sorted(ghi_diario_IDEAM['PromedioDia'])\n",
    "\n",
    "numdatos_ajustados = range(len(datos_ajustados))\n",
    "numdatos_NREL = range(len(datos_NREL))\n",
    "numdatos_IDEAM = range(len(datos_IDEAM))\n",
    "\n",
    "pylab.title('Ajuste con resolución de tres meses')\n",
    "pylab.plot(numdatos_ajustados,datos_ajustados,'-k', label='Ajustados')\n",
    "pylab.plot(numdatos_NREL,datos_NREL,'-r', label='NREL')\n",
    "pylab.plot(numdatos_IDEAM,datos_IDEAM,'-b', label='IDEAM')\n",
    "pylab.legend(loc='upper left')"
   ]
  },
  {
   "cell_type": "code",
   "execution_count": 339,
   "metadata": {},
   "outputs": [
    {
     "data": {
      "text/plain": [
       "<matplotlib.legend.Legend at 0x7fb314545550>"
      ]
     },
     "execution_count": 339,
     "metadata": {},
     "output_type": "execute_result"
    },
    {
     "data": {
      "image/png": "[encoded data removed]",
      "text/plain": [
       "<matplotlib.figure.Figure at 0x7fb313c8f860>"
      ]
     },
     "metadata": {},
     "output_type": "display_data"
    }
   ],
   "source": [
    "#Se grafica el ajuste con resolución de 6 meses.\n",
    "ghi_mensual_ajust = ghi_mensual(serie_obj_cali, cali_ajust_6meses)\n",
    "ghi_diario_ajust = ghi_dia(ghi_mensual_ajust)\n",
    "datos_ajustados = sorted(ghi_diario_ajust['PromedioDia'])\n",
    "\n",
    "ghi_mensual_NREL = ghi_mensual(serie_obj_cali, serie_ref_cali)\n",
    "ghi_diario_NREL = ghi_dia(ghi_mensual_NREL)\n",
    "datos_NREL = sorted(ghi_diario_NREL['PromedioDia'])\n",
    "\n",
    "ghi_mensual_IDEAM = ghi_mensual(serie_obj_cali, serie_obj_cali)\n",
    "ghi_diario_IDEAM = ghi_dia(ghi_mensual_IDEAM)\n",
    "datos_IDEAM = sorted(ghi_diario_IDEAM['PromedioDia'])\n",
    "\n",
    "numdatos_ajustados = range(len(datos_ajustados))\n",
    "numdatos_NREL = range(len(datos_NREL))\n",
    "numdatos_IDEAM = range(len(datos_IDEAM))\n",
    "\n",
    "pylab.title('Ajuste con resolución de seis meses')\n",
    "pylab.plot(numdatos_ajustados,datos_ajustados,'-k', label='Ajustados')\n",
    "pylab.plot(numdatos_NREL,datos_NREL,'-r', label='NREL')\n",
    "pylab.plot(numdatos_IDEAM,datos_IDEAM,'-b', label='IDEAM')\n",
    "pylab.legend(loc='upper left')\n"
   ]
  },
  {
   "cell_type": "code",
   "execution_count": 340,
   "metadata": {},
   "outputs": [
    {
     "data": {
      "text/plain": [
       "<matplotlib.legend.Legend at 0x7fb315451860>"
      ]
     },
     "execution_count": 340,
     "metadata": {},
     "output_type": "execute_result"
    },
    {
     "data": {
      "image/png": "[encoded data removed]",
      "text/plain": [
       "<matplotlib.figure.Figure at 0x7fb31454ef60>"
      ]
     },
     "metadata": {},
     "output_type": "display_data"
    }
   ],
   "source": [
    "#Se grafica el ajuste con resolución de un año.\n",
    "ghi_mensual_ajust = ghi_mensual(serie_obj_cali, cali_ajust_agno)\n",
    "ghi_diario_ajust = ghi_dia(ghi_mensual_ajust)\n",
    "datos_ajustados = sorted(ghi_diario_ajust['PromedioDia'])\n",
    "\n",
    "ghi_mensual_NREL = ghi_mensual(serie_obj_cali, serie_ref_cali)\n",
    "ghi_diario_NREL = ghi_dia(ghi_mensual_NREL)\n",
    "datos_NREL = sorted(ghi_diario_NREL['PromedioDia'])\n",
    "\n",
    "ghi_mensual_IDEAM = ghi_mensual(serie_obj_cali, serie_obj_cali)\n",
    "ghi_diario_IDEAM = ghi_dia(ghi_mensual_IDEAM)\n",
    "datos_IDEAM = sorted(ghi_diario_IDEAM['PromedioDia'])\n",
    "\n",
    "numdatos_ajustados = range(len(datos_ajustados))\n",
    "numdatos_NREL = range(len(datos_NREL))\n",
    "numdatos_IDEAM = range(len(datos_IDEAM))\n",
    "\n",
    "pylab.title('Ajuste con resolución de un año')\n",
    "pylab.plot(numdatos_ajustados,datos_ajustados,'-k', label='Ajustados')\n",
    "pylab.plot(numdatos_NREL,datos_NREL,'-r', label='NREL')\n",
    "pylab.plot(numdatos_IDEAM,datos_IDEAM,'-b', label='IDEAM')\n",
    "pylab.legend(loc='upper left')"
   ]
  },
  {
   "cell_type": "code",
   "execution_count": 341,
   "metadata": {},
   "outputs": [
    {
     "data": {
      "text/plain": [
       "0.11968840295680064"
      ]
     },
     "execution_count": 341,
     "metadata": {},
     "output_type": "execute_result"
    }
   ],
   "source": [
    "calc_RMSEn(serie_obj_cali,serie_ref_cali) #Error RMS con respecto a la serie NREL."
   ]
  },
  {
   "cell_type": "code",
   "execution_count": 342,
   "metadata": {},
   "outputs": [
    {
     "data": {
      "text/plain": [
       "0.10101577646679549"
      ]
     },
     "execution_count": 342,
     "metadata": {},
     "output_type": "execute_result"
    }
   ],
   "source": [
    "calc_RMSEn(serie_obj_cali,cali_ajust_3meses) #Error RMS con respecto al ajuste con resolución de 3 meses."
   ]
  },
  {
   "cell_type": "code",
   "execution_count": 343,
   "metadata": {},
   "outputs": [
    {
     "data": {
      "text/plain": [
       "0.10136240817437119"
      ]
     },
     "execution_count": 343,
     "metadata": {},
     "output_type": "execute_result"
    }
   ],
   "source": [
    "calc_RMSEn(serie_obj_cali,cali_ajust_6meses) #Error RMS con respecto al ajuste con resolución de 6 meses."
   ]
  },
  {
   "cell_type": "code",
   "execution_count": 344,
   "metadata": {},
   "outputs": [
    {
     "data": {
      "text/plain": [
       "0.10146180900923341"
      ]
     },
     "execution_count": 344,
     "metadata": {},
     "output_type": "execute_result"
    }
   ],
   "source": [
    "calc_RMSEn(serie_obj_cali,cali_ajust_agno) #Error RMS con respecto al ajuste con resolución de un año."
   ]
  },
  {
   "cell_type": "code",
   "execution_count": 345,
   "metadata": {},
   "outputs": [
    {
     "data": {
      "text/plain": [
       "0.1925535745682122"
      ]
     },
     "execution_count": 345,
     "metadata": {},
     "output_type": "execute_result"
    }
   ],
   "source": [
    "calc_MBE(serie_obj_cali,serie_ref_cali) #Error MBE con respecto a la serie NREL."
   ]
  },
  {
   "cell_type": "code",
   "execution_count": 346,
   "metadata": {},
   "outputs": [
    {
     "data": {
      "text/plain": [
       "0.00073192936870588958"
      ]
     },
     "execution_count": 346,
     "metadata": {},
     "output_type": "execute_result"
    }
   ],
   "source": [
    "calc_MBE(serie_obj_cali,cali_ajust_3meses) #Error MBE con respecto al ajuste con resolución de 3 meses."
   ]
  },
  {
   "cell_type": "code",
   "execution_count": 347,
   "metadata": {},
   "outputs": [
    {
     "data": {
      "text/plain": [
       "0.0030922447934169759"
      ]
     },
     "execution_count": 347,
     "metadata": {},
     "output_type": "execute_result"
    }
   ],
   "source": [
    "calc_MBE(serie_obj_cali,cali_ajust_6meses) #Error MBE con respecto al ajuste con resolución de 6 meses."
   ]
  },
  {
   "cell_type": "code",
   "execution_count": 348,
   "metadata": {},
   "outputs": [
    {
     "data": {
      "text/plain": [
       "0.0023223781077575355"
      ]
     },
     "execution_count": 348,
     "metadata": {},
     "output_type": "execute_result"
    }
   ],
   "source": [
    "calc_MBE(serie_obj_cali,cali_ajust_agno) #Error MBE con respecto al ajuste con resolución de un año."
   ]
  },
  {
   "cell_type": "code",
   "execution_count": 349,
   "metadata": {},
   "outputs": [
    {
     "data": {
      "text/plain": [
       "(0.047447013487477277, 1.4888855059112622e-77)"
      ]
     },
     "execution_count": 349,
     "metadata": {},
     "output_type": "execute_result"
    }
   ],
   "source": [
    "calc_KSI(serie_obj_cali,serie_ref_cali) #Error KSI con respecto a la serie NREL."
   ]
  },
  {
   "cell_type": "code",
   "execution_count": 350,
   "metadata": {},
   "outputs": [
    {
     "data": {
      "text/plain": [
       "(0.031538383531082861, 1.6712003104439445e-34)"
      ]
     },
     "execution_count": 350,
     "metadata": {},
     "output_type": "execute_result"
    }
   ],
   "source": [
    "calc_KSI(serie_obj_cali,cali_ajust_3meses) #Error KSI con respecto al ajuste con resolución de 3 meses."
   ]
  },
  {
   "cell_type": "code",
   "execution_count": 351,
   "metadata": {},
   "outputs": [
    {
     "data": {
      "text/plain": [
       "(0.037699016326945584, 4.0671486678506938e-49)"
      ]
     },
     "execution_count": 351,
     "metadata": {},
     "output_type": "execute_result"
    }
   ],
   "source": [
    "calc_KSI(serie_obj_cali,cali_ajust_6meses) #Error KSI con respecto al ajuste con resolución de 6 meses."
   ]
  },
  {
   "cell_type": "code",
   "execution_count": 352,
   "metadata": {},
   "outputs": [
    {
     "data": {
      "text/plain": [
       "(0.041248352094109292, 1.0211657429847107e-58)"
      ]
     },
     "execution_count": 352,
     "metadata": {},
     "output_type": "execute_result"
    }
   ],
   "source": [
    "calc_KSI(serie_obj_cali,cali_ajust_agno) #Error KSI con respecto al ajuste con resolución de un año."
   ]
  },
  {
   "cell_type": "markdown",
   "metadata": {},
   "source": [
    "Podemos empezar a hacer puntos de comparación entre los resultados de Barranquilla y Cali:\n",
    "- La diferencia entre los valores de ENFICC es evidencia de la sobreestimación de los niveles de radiación solar en la serie NREL. Podemos observar esto en ambas ciudades, ya que la ENFICC para la serie satelital es mayor que la de la serie IDEAM.\n",
    "- Aparentemente, la diferencia entre las series satelital e IDEAM es mayor en Cali que en Barranquilla. Esto se evidencia por las gráficas resultado de la función graph_compare.\n",
    "- En general, el ajuste MCP arregla el desfase entre las series IDEAM y NREL.  No obstante, cuando se toma como resolución un año, para Barranquilla la gráfica de ajuste parece tomar valores muy similares a la NREL, deshaciendo el propósito del ajuste MCP. Esto se evidencia principalmente en el cambio de los errores RMS cuando se toman las funciones ajustadas en lugar de la satelital original.\n",
    "- Los errores MBE se reducen casi totalmente (para Cali, de aproximadamente 20% a números cercanos al 0%) cuando se analizan para los datos ajustados, lo cual indica una mejoría en los valores presentados con respecto a la serie objetivo."
   ]
  },
  {
   "cell_type": "markdown",
   "metadata": {},
   "source": [
    "A continuación, procedemos a realizar el análisis para Santa Marta en los años 2008 y el año en el cual se presentó el fenómeno del Niño (2015):"
   ]
  },
  {
   "cell_type": "markdown",
   "metadata": {},
   "source": [
    "#### Santa Marta (2008)"
   ]
  },
  {
   "cell_type": "code",
   "execution_count": 353,
   "metadata": {},
   "outputs": [
    {
     "name": "stdout",
     "output_type": "stream",
     "text": [
      "La ENFICC 99% es:  4.04071664383\n"
     ]
    },
    {
     "data": {
      "text/plain": [
       "4.0407166438251352"
      ]
     },
     "execution_count": 353,
     "metadata": {},
     "output_type": "execute_result"
    }
   ],
   "source": [
    "enficc(serie_obj_santamarta) #Se obtiene la ENFICC según la serie IDEAM."
   ]
  },
  {
   "cell_type": "code",
   "execution_count": 354,
   "metadata": {},
   "outputs": [
    {
     "name": "stdout",
     "output_type": "stream",
     "text": [
      "La ENFICC 99% es:  4.536077\n"
     ]
    },
    {
     "data": {
      "text/plain": [
       "4.5360769999999997"
      ]
     },
     "execution_count": 354,
     "metadata": {},
     "output_type": "execute_result"
    }
   ],
   "source": [
    "enficc(serie_ref_santamarta) #Se obtiene la ENFICC según la serie NREL."
   ]
  },
  {
   "cell_type": "code",
   "execution_count": 355,
   "metadata": {},
   "outputs": [
    {
     "data": {
      "image/png": "[encoded data removed]",
      "text/plain": [
       "<matplotlib.figure.Figure at 0x7fb3151f9358>"
      ]
     },
     "metadata": {},
     "output_type": "display_data"
    }
   ],
   "source": [
    "graph_compare(serie_obj_santamarta,serie_ref_santamarta) #Gráfica comparativa de serie IDEAM vs NREL."
   ]
  },
  {
   "cell_type": "code",
   "execution_count": 356,
   "metadata": {},
   "outputs": [],
   "source": [
    "#Se crean las series ajustadas dependiendo de su temporalidad.\n",
    "santamarta_ajust_3meses = ajuste_MCP_3meses(serie_obj_santamarta, serie_ref_santamarta, 2008, 1)\n",
    "santamarta_ajust_6meses = ajuste_MCP_6meses(serie_obj_santamarta, serie_ref_santamarta, 2008, 1)\n",
    "santamarta_ajust_agno = ajuste_MCP_agno(serie_obj_santamarta, serie_ref_santamarta, 2008)"
   ]
  },
  {
   "cell_type": "code",
   "execution_count": 357,
   "metadata": {},
   "outputs": [
    {
     "name": "stdout",
     "output_type": "stream",
     "text": [
      "La ENFICC 99% es:  4.0712159359\n"
     ]
    },
    {
     "data": {
      "text/plain": [
       "4.0712159359044957"
      ]
     },
     "execution_count": 357,
     "metadata": {},
     "output_type": "execute_result"
    }
   ],
   "source": [
    "enficc(santamarta_ajust_3meses) #Se obtiene la ENFICC según el ajuste de resolución de 3 meses. "
   ]
  },
  {
   "cell_type": "code",
   "execution_count": 358,
   "metadata": {},
   "outputs": [
    {
     "name": "stdout",
     "output_type": "stream",
     "text": [
      "La ENFICC 99% es:  4.09470735151\n"
     ]
    },
    {
     "data": {
      "text/plain": [
       "4.0947073515074104"
      ]
     },
     "execution_count": 358,
     "metadata": {},
     "output_type": "execute_result"
    }
   ],
   "source": [
    "enficc(santamarta_ajust_6meses) #Se obtiene la ENFICC según el ajuste de resolución de 6 meses."
   ]
  },
  {
   "cell_type": "code",
   "execution_count": 359,
   "metadata": {},
   "outputs": [
    {
     "name": "stdout",
     "output_type": "stream",
     "text": [
      "La ENFICC 99% es:  4.20061034634\n"
     ]
    },
    {
     "data": {
      "text/plain": [
       "4.2006103463404036"
      ]
     },
     "execution_count": 359,
     "metadata": {},
     "output_type": "execute_result"
    }
   ],
   "source": [
    "enficc(santamarta_ajust_agno) #Se obtiene la ENFICC según el ajuste de resolución de un año."
   ]
  },
  {
   "cell_type": "code",
   "execution_count": 360,
   "metadata": {},
   "outputs": [
    {
     "data": {
      "text/plain": [
       "<matplotlib.legend.Legend at 0x7fb3135f0400>"
      ]
     },
     "execution_count": 360,
     "metadata": {},
     "output_type": "execute_result"
    },
    {
     "data": {
      "image/png": "[encoded data removed]",
      "text/plain": [
       "<matplotlib.figure.Figure at 0x7fb3160bc198>"
      ]
     },
     "metadata": {},
     "output_type": "display_data"
    }
   ],
   "source": [
    "#Se grafica el ajuste con resolución de 3 meses.\n",
    "ghi_mensual_ajust = ghi_mensual(serie_obj_santamarta, santamarta_ajust_3meses)\n",
    "ghi_diario_ajust = ghi_dia(ghi_mensual_ajust)\n",
    "datos_ajustados = sorted(ghi_diario_ajust['PromedioDia'])\n",
    "\n",
    "ghi_mensual_NREL = ghi_mensual(serie_obj_santamarta, serie_ref_santamarta)\n",
    "ghi_diario_NREL = ghi_dia(ghi_mensual_NREL)\n",
    "datos_NREL = sorted(ghi_diario_NREL['PromedioDia'])\n",
    "\n",
    "ghi_mensual_IDEAM = ghi_mensual(serie_obj_santamarta, serie_obj_santamarta)\n",
    "ghi_diario_IDEAM = ghi_dia(ghi_mensual_IDEAM)\n",
    "datos_IDEAM = sorted(ghi_diario_IDEAM['PromedioDia'])\n",
    "\n",
    "numdatos_ajustados = range(len(datos_ajustados))\n",
    "numdatos_NREL = range(len(datos_NREL))\n",
    "numdatos_IDEAM = range(len(datos_IDEAM))\n",
    "\n",
    "pylab.title('Ajuste con resolución de tres meses')\n",
    "pylab.plot(numdatos_ajustados,datos_ajustados,'-k', label='Ajustados')\n",
    "pylab.plot(numdatos_NREL,datos_NREL,'-r', label='NREL')\n",
    "pylab.plot(numdatos_IDEAM,datos_IDEAM,'-b', label='IDEAM')\n",
    "pylab.legend(loc='upper left')\n"
   ]
  },
  {
   "cell_type": "code",
   "execution_count": 361,
   "metadata": {},
   "outputs": [
    {
     "data": {
      "text/plain": [
       "<matplotlib.legend.Legend at 0x7fb3135b5a20>"
      ]
     },
     "execution_count": 361,
     "metadata": {},
     "output_type": "execute_result"
    },
    {
     "data": {
      "image/png": "[encoded data removed]",
      "text/plain": [
       "<matplotlib.figure.Figure at 0x7fb3138be978>"
      ]
     },
     "metadata": {},
     "output_type": "display_data"
    }
   ],
   "source": [
    "#Se grafica el ajuste con resolución de 6 meses.\n",
    "ghi_mensual_ajust = ghi_mensual(serie_obj_santamarta, santamarta_ajust_6meses)\n",
    "ghi_diario_ajust = ghi_dia(ghi_mensual_ajust)\n",
    "datos_ajustados = sorted(ghi_diario_ajust['PromedioDia'])\n",
    "\n",
    "ghi_mensual_NREL = ghi_mensual(serie_obj_santamarta, serie_ref_santamarta)\n",
    "ghi_diario_NREL = ghi_dia(ghi_mensual_NREL)\n",
    "datos_NREL = sorted(ghi_diario_NREL['PromedioDia'])\n",
    "\n",
    "ghi_mensual_IDEAM = ghi_mensual(serie_obj_santamarta, serie_obj_santamarta)\n",
    "ghi_diario_IDEAM = ghi_dia(ghi_mensual_IDEAM)\n",
    "datos_IDEAM = sorted(ghi_diario_IDEAM['PromedioDia'])\n",
    "\n",
    "numdatos_ajustados = range(len(datos_ajustados))\n",
    "numdatos_NREL = range(len(datos_NREL))\n",
    "numdatos_IDEAM = range(len(datos_IDEAM))\n",
    "\n",
    "pylab.title('Ajuste con resolución de seis meses')\n",
    "pylab.plot(numdatos_ajustados,datos_ajustados,'-k', label='Ajustados')\n",
    "pylab.plot(numdatos_NREL,datos_NREL,'-r', label='NREL')\n",
    "pylab.plot(numdatos_IDEAM,datos_IDEAM,'-b', label='IDEAM')\n",
    "pylab.legend(loc='upper left')\n"
   ]
  },
  {
   "cell_type": "code",
   "execution_count": 362,
   "metadata": {},
   "outputs": [
    {
     "data": {
      "text/plain": [
       "<matplotlib.legend.Legend at 0x7fb3135203c8>"
      ]
     },
     "execution_count": 362,
     "metadata": {},
     "output_type": "execute_result"
    },
    {
     "data": {
      "image/png": "[encoded data removed]",
      "text/plain": [
       "<matplotlib.figure.Figure at 0x7fb31389cda0>"
      ]
     },
     "metadata": {},
     "output_type": "display_data"
    }
   ],
   "source": [
    "#Se grafica el ajuste con resolución de un año.\n",
    "ghi_mensual_ajust = ghi_mensual(serie_obj_santamarta, santamarta_ajust_agno)\n",
    "ghi_diario_ajust = ghi_dia(ghi_mensual_ajust)\n",
    "datos_ajustados = sorted(ghi_diario_ajust['PromedioDia'])\n",
    "\n",
    "ghi_mensual_NREL = ghi_mensual(serie_obj_santamarta, serie_ref_santamarta)\n",
    "ghi_diario_NREL = ghi_dia(ghi_mensual_NREL)\n",
    "datos_NREL = sorted(ghi_diario_NREL['PromedioDia'])\n",
    "\n",
    "ghi_mensual_IDEAM = ghi_mensual(serie_obj_santamarta, serie_obj_santamarta)\n",
    "ghi_diario_IDEAM = ghi_dia(ghi_mensual_IDEAM)\n",
    "datos_IDEAM = sorted(ghi_diario_IDEAM['PromedioDia'])\n",
    "\n",
    "numdatos_ajustados = range(len(datos_ajustados))\n",
    "numdatos_NREL = range(len(datos_NREL))\n",
    "numdatos_IDEAM = range(len(datos_IDEAM))\n",
    "\n",
    "pylab.title('Ajuste con resolución de un año')\n",
    "pylab.plot(numdatos_ajustados,datos_ajustados,'-k', label='Ajustados')\n",
    "pylab.plot(numdatos_NREL,datos_NREL,'-r', label='NREL')\n",
    "pylab.plot(numdatos_IDEAM,datos_IDEAM,'-b', label='IDEAM')\n",
    "pylab.legend(loc='upper left')\n"
   ]
  },
  {
   "cell_type": "code",
   "execution_count": 363,
   "metadata": {},
   "outputs": [
    {
     "data": {
      "text/plain": [
       "0.085449377270846269"
      ]
     },
     "execution_count": 363,
     "metadata": {},
     "output_type": "execute_result"
    }
   ],
   "source": [
    "calc_RMSEn(serie_obj_santamarta,serie_ref_santamarta) #Error RMS con respecto a la serie NREL."
   ]
  },
  {
   "cell_type": "code",
   "execution_count": 364,
   "metadata": {},
   "outputs": [
    {
     "data": {
      "text/plain": [
       "0.082496396431449834"
      ]
     },
     "execution_count": 364,
     "metadata": {},
     "output_type": "execute_result"
    }
   ],
   "source": [
    "calc_RMSEn(serie_obj_santamarta,santamarta_ajust_3meses) #Error RMS con respecto al ajuste con resolución de 3 meses."
   ]
  },
  {
   "cell_type": "code",
   "execution_count": 365,
   "metadata": {},
   "outputs": [
    {
     "data": {
      "text/plain": [
       "0.08244122726576604"
      ]
     },
     "execution_count": 365,
     "metadata": {},
     "output_type": "execute_result"
    }
   ],
   "source": [
    "calc_RMSEn(serie_obj_santamarta,santamarta_ajust_6meses) #Error RMS con respecto al ajuste con resolución de 6 meses."
   ]
  },
  {
   "cell_type": "code",
   "execution_count": 366,
   "metadata": {},
   "outputs": [
    {
     "data": {
      "text/plain": [
       "0.082417578148495374"
      ]
     },
     "execution_count": 366,
     "metadata": {},
     "output_type": "execute_result"
    }
   ],
   "source": [
    "calc_RMSEn(serie_obj_santamarta,santamarta_ajust_agno) #Error RMS con respecto al ajuste con resolución de un año."
   ]
  },
  {
   "cell_type": "code",
   "execution_count": 367,
   "metadata": {},
   "outputs": [
    {
     "data": {
      "text/plain": [
       "0.062783754397964062"
      ]
     },
     "execution_count": 367,
     "metadata": {},
     "output_type": "execute_result"
    }
   ],
   "source": [
    "calc_MBE(serie_obj_santamarta,santamarta_ajust_3meses) #Error MBE con respecto al ajuste con resolución de 3 meses."
   ]
  },
  {
   "cell_type": "code",
   "execution_count": 368,
   "metadata": {},
   "outputs": [
    {
     "data": {
      "text/plain": [
       "0.057825367482995452"
      ]
     },
     "execution_count": 368,
     "metadata": {},
     "output_type": "execute_result"
    }
   ],
   "source": [
    "calc_MBE(serie_obj_santamarta,santamarta_ajust_6meses) #Error MBE con respecto al ajuste con resolución de 6 meses."
   ]
  },
  {
   "cell_type": "code",
   "execution_count": 369,
   "metadata": {},
   "outputs": [
    {
     "data": {
      "text/plain": [
       "0.035082164919957588"
      ]
     },
     "execution_count": 369,
     "metadata": {},
     "output_type": "execute_result"
    }
   ],
   "source": [
    "calc_MBE(serie_obj_santamarta,santamarta_ajust_agno) #Error MBE con respecto al ajuste con resolución de un año."
   ]
  },
  {
   "cell_type": "code",
   "execution_count": 370,
   "metadata": {},
   "outputs": [
    {
     "data": {
      "text/plain": [
       "(0.027292950034223572, 4.1119524070226609e-23)"
      ]
     },
     "execution_count": 370,
     "metadata": {},
     "output_type": "execute_result"
    }
   ],
   "source": [
    "calc_KSI(serie_obj_santamarta,serie_ref_santamarta) #Error KSI con respecto a la serie NREL."
   ]
  },
  {
   "cell_type": "code",
   "execution_count": 371,
   "metadata": {},
   "outputs": [
    {
     "data": {
      "text/plain": [
       "(0.03804471822952267, 1.6546392941701942e-44)"
      ]
     },
     "execution_count": 371,
     "metadata": {},
     "output_type": "execute_result"
    }
   ],
   "source": [
    "calc_KSI(serie_obj_santamarta,santamarta_ajust_3meses) #Error KSI con respecto al ajuste con resolución de 3 meses."
   ]
  },
  {
   "cell_type": "code",
   "execution_count": 372,
   "metadata": {},
   "outputs": [
    {
     "data": {
      "text/plain": [
       "(0.036376340406114337, 1.0005066526297111e-40)"
      ]
     },
     "execution_count": 372,
     "metadata": {},
     "output_type": "execute_result"
    }
   ],
   "source": [
    "calc_KSI(serie_obj_santamarta,santamarta_ajust_6meses) #Error KSI con respecto al ajuste con resolución de 6 meses."
   ]
  },
  {
   "cell_type": "code",
   "execution_count": 373,
   "metadata": {},
   "outputs": [
    {
     "data": {
      "text/plain": [
       "(0.029103924252795441, 3.1875423556666141e-26)"
      ]
     },
     "execution_count": 373,
     "metadata": {},
     "output_type": "execute_result"
    }
   ],
   "source": [
    "calc_KSI(serie_obj_santamarta,santamarta_ajust_agno) #Error KSI con respecto al ajuste con resolución de un año."
   ]
  },
  {
   "cell_type": "markdown",
   "metadata": {},
   "source": [
    "#### Santa Marta (2015)"
   ]
  },
  {
   "cell_type": "code",
   "execution_count": 374,
   "metadata": {},
   "outputs": [],
   "source": [
    "#Se crean las series ajustadas dependiendo de su temporalidad.\n",
    "santamarta_ajust_3meses = ajuste_MCP_3meses(serie_obj_santamarta, serie_ref_santamarta, 2015, 1)\n",
    "santamarta_ajust_6meses = ajuste_MCP_6meses(serie_obj_santamarta, serie_ref_santamarta, 2015, 1)\n",
    "santamarta_ajust_agno = ajuste_MCP_agno(serie_obj_santamarta, serie_ref_santamarta, 2015)"
   ]
  },
  {
   "cell_type": "code",
   "execution_count": 375,
   "metadata": {},
   "outputs": [
    {
     "name": "stdout",
     "output_type": "stream",
     "text": [
      "La ENFICC 99% es:  4.90687552633\n"
     ]
    },
    {
     "data": {
      "text/plain": [
       "4.9068755263271093"
      ]
     },
     "execution_count": 375,
     "metadata": {},
     "output_type": "execute_result"
    }
   ],
   "source": [
    "enficc(santamarta_ajust_3meses) #Se obtiene la ENFICC según el ajuste de resolución de 3 meses. "
   ]
  },
  {
   "cell_type": "code",
   "execution_count": 376,
   "metadata": {},
   "outputs": [
    {
     "name": "stdout",
     "output_type": "stream",
     "text": [
      "La ENFICC 99% es:  4.99674051329\n"
     ]
    },
    {
     "data": {
      "text/plain": [
       "4.9967405132939113"
      ]
     },
     "execution_count": 376,
     "metadata": {},
     "output_type": "execute_result"
    }
   ],
   "source": [
    "enficc(santamarta_ajust_6meses) #Se obtiene la ENFICC según el ajuste de resolución de 6 meses."
   ]
  },
  {
   "cell_type": "code",
   "execution_count": 377,
   "metadata": {},
   "outputs": [
    {
     "name": "stdout",
     "output_type": "stream",
     "text": [
      "La ENFICC 99% es:  4.92027323961\n"
     ]
    },
    {
     "data": {
      "text/plain": [
       "4.920273239608262"
      ]
     },
     "execution_count": 377,
     "metadata": {},
     "output_type": "execute_result"
    }
   ],
   "source": [
    "enficc(santamarta_ajust_agno) #Se obtiene la ENFICC según el ajuste de resolución de un año."
   ]
  },
  {
   "cell_type": "code",
   "execution_count": 378,
   "metadata": {},
   "outputs": [
    {
     "data": {
      "text/plain": [
       "<matplotlib.legend.Legend at 0x7fb3134626d8>"
      ]
     },
     "execution_count": 378,
     "metadata": {},
     "output_type": "execute_result"
    },
    {
     "data": {
      "image/png": "[encoded data removed]",
      "text/plain": [
       "<matplotlib.figure.Figure at 0x7fb3134b0e10>"
      ]
     },
     "metadata": {},
     "output_type": "display_data"
    }
   ],
   "source": [
    "#Se grafica el ajuste con resolución de 3 meses.\n",
    "ghi_mensual_ajust = ghi_mensual(serie_obj_santamarta, santamarta_ajust_3meses)\n",
    "ghi_diario_ajust = ghi_dia(ghi_mensual_ajust)\n",
    "datos_ajustados = sorted(ghi_diario_ajust['PromedioDia'])\n",
    "\n",
    "ghi_mensual_NREL = ghi_mensual(serie_obj_santamarta, serie_ref_santamarta)\n",
    "ghi_diario_NREL = ghi_dia(ghi_mensual_NREL)\n",
    "datos_NREL = sorted(ghi_diario_NREL['PromedioDia'])\n",
    "\n",
    "ghi_mensual_IDEAM = ghi_mensual(serie_obj_santamarta, serie_obj_santamarta)\n",
    "ghi_diario_IDEAM = ghi_dia(ghi_mensual_IDEAM)\n",
    "datos_IDEAM = sorted(ghi_diario_IDEAM['PromedioDia'])\n",
    "\n",
    "numdatos_ajustados = range(len(datos_ajustados))\n",
    "numdatos_NREL = range(len(datos_NREL))\n",
    "numdatos_IDEAM = range(len(datos_IDEAM))\n",
    "\n",
    "pylab.title('Ajuste con resolución de tres meses')\n",
    "pylab.plot(numdatos_ajustados,datos_ajustados,'-k', label='Ajustados')\n",
    "pylab.plot(numdatos_NREL,datos_NREL,'-r', label='NREL')\n",
    "pylab.plot(numdatos_IDEAM,datos_IDEAM,'-b', label='IDEAM')\n",
    "pylab.legend(loc='upper left')"
   ]
  },
  {
   "cell_type": "code",
   "execution_count": 379,
   "metadata": {},
   "outputs": [
    {
     "data": {
      "text/plain": [
       "<matplotlib.legend.Legend at 0x7fb3131dca20>"
      ]
     },
     "execution_count": 379,
     "metadata": {},
     "output_type": "execute_result"
    },
    {
     "data": {
      "image/png": "[encoded data removed]",
      "text/plain": [
       "<matplotlib.figure.Figure at 0x7fb3138c55f8>"
      ]
     },
     "metadata": {},
     "output_type": "display_data"
    }
   ],
   "source": [
    "#Se grafica el ajuste con resolución de 6 meses.\n",
    "ghi_mensual_ajust = ghi_mensual(serie_obj_santamarta, santamarta_ajust_6meses)\n",
    "ghi_diario_ajust = ghi_dia(ghi_mensual_ajust)\n",
    "datos_ajustados = sorted(ghi_diario_ajust['PromedioDia'])\n",
    "\n",
    "ghi_mensual_NREL = ghi_mensual(serie_obj_santamarta, serie_ref_santamarta)\n",
    "ghi_diario_NREL = ghi_dia(ghi_mensual_NREL)\n",
    "datos_NREL = sorted(ghi_diario_NREL['PromedioDia'])\n",
    "\n",
    "ghi_mensual_IDEAM = ghi_mensual(serie_obj_santamarta, serie_obj_santamarta)\n",
    "ghi_diario_IDEAM = ghi_dia(ghi_mensual_IDEAM)\n",
    "datos_IDEAM = sorted(ghi_diario_IDEAM['PromedioDia'])\n",
    "\n",
    "numdatos_ajustados = range(len(datos_ajustados))\n",
    "numdatos_NREL = range(len(datos_NREL))\n",
    "numdatos_IDEAM = range(len(datos_IDEAM))\n",
    "\n",
    "pylab.title('Ajuste con resolución de seis meses')\n",
    "pylab.plot(numdatos_ajustados,datos_ajustados,'-k', label='Ajustados')\n",
    "pylab.plot(numdatos_NREL,datos_NREL,'-r', label='NREL')\n",
    "pylab.plot(numdatos_IDEAM,datos_IDEAM,'-b', label='IDEAM')\n",
    "pylab.legend(loc='upper left')"
   ]
  },
  {
   "cell_type": "code",
   "execution_count": 380,
   "metadata": {},
   "outputs": [
    {
     "data": {
      "text/plain": [
       "<matplotlib.legend.Legend at 0x7fb31315e5c0>"
      ]
     },
     "execution_count": 380,
     "metadata": {},
     "output_type": "execute_result"
    },
    {
     "data": {
      "image/png": "[encoded data removed]",
      "text/plain": [
       "<matplotlib.figure.Figure at 0x7fb3135f8a90>"
      ]
     },
     "metadata": {},
     "output_type": "display_data"
    }
   ],
   "source": [
    "#Se grafica el ajuste con resolución de un año.\n",
    "ghi_mensual_ajust = ghi_mensual(serie_obj_santamarta, santamarta_ajust_agno)\n",
    "ghi_diario_ajust = ghi_dia(ghi_mensual_ajust)\n",
    "datos_ajustados = sorted(ghi_diario_ajust['PromedioDia'])\n",
    "\n",
    "ghi_mensual_NREL = ghi_mensual(serie_obj_santamarta, serie_ref_santamarta)\n",
    "ghi_diario_NREL = ghi_dia(ghi_mensual_NREL)\n",
    "datos_NREL = sorted(ghi_diario_NREL['PromedioDia'])\n",
    "\n",
    "ghi_mensual_IDEAM = ghi_mensual(serie_obj_santamarta, serie_obj_santamarta)\n",
    "ghi_diario_IDEAM = ghi_dia(ghi_mensual_IDEAM)\n",
    "datos_IDEAM = sorted(ghi_diario_IDEAM['PromedioDia'])\n",
    "\n",
    "numdatos_ajustados = range(len(datos_ajustados))\n",
    "numdatos_NREL = range(len(datos_NREL))\n",
    "numdatos_IDEAM = range(len(datos_IDEAM))\n",
    "\n",
    "pylab.title('Ajuste con resolución de un año')\n",
    "pylab.plot(numdatos_ajustados,datos_ajustados,'-k', label='Ajustados')\n",
    "pylab.plot(numdatos_NREL,datos_NREL,'-r', label='NREL')\n",
    "pylab.plot(numdatos_IDEAM,datos_IDEAM,'-b', label='IDEAM')\n",
    "pylab.legend(loc='upper left')"
   ]
  },
  {
   "cell_type": "code",
   "execution_count": 381,
   "metadata": {},
   "outputs": [
    {
     "data": {
      "text/plain": [
       "0.085449377270846269"
      ]
     },
     "execution_count": 381,
     "metadata": {},
     "output_type": "execute_result"
    }
   ],
   "source": [
    "calc_RMSEn(serie_obj_santamarta,serie_ref_santamarta) #Error RMS con respecto a la serie NREL."
   ]
  },
  {
   "cell_type": "code",
   "execution_count": 382,
   "metadata": {},
   "outputs": [
    {
     "data": {
      "text/plain": [
       "0.093678417899049349"
      ]
     },
     "execution_count": 382,
     "metadata": {},
     "output_type": "execute_result"
    }
   ],
   "source": [
    "calc_RMSEn(serie_obj_santamarta,santamarta_ajust_3meses) #Error RMS con respecto al ajuste con resolución de 3 meses."
   ]
  },
  {
   "cell_type": "code",
   "execution_count": 383,
   "metadata": {},
   "outputs": [
    {
     "data": {
      "text/plain": [
       "0.096251943460333486"
      ]
     },
     "execution_count": 383,
     "metadata": {},
     "output_type": "execute_result"
    }
   ],
   "source": [
    "calc_RMSEn(serie_obj_santamarta,santamarta_ajust_6meses) #Error RMS con respecto al ajuste con resolución de 6 meses."
   ]
  },
  {
   "cell_type": "code",
   "execution_count": 384,
   "metadata": {},
   "outputs": [
    {
     "data": {
      "text/plain": [
       "0.093728180812429202"
      ]
     },
     "execution_count": 384,
     "metadata": {},
     "output_type": "execute_result"
    }
   ],
   "source": [
    "calc_RMSEn(serie_obj_santamarta,santamarta_ajust_agno) #Error RMS con respecto al ajuste con resolución de un año."
   ]
  },
  {
   "cell_type": "code",
   "execution_count": 385,
   "metadata": {},
   "outputs": [
    {
     "data": {
      "text/plain": [
       "0.041874591024665633"
      ]
     },
     "execution_count": 385,
     "metadata": {},
     "output_type": "execute_result"
    }
   ],
   "source": [
    "calc_MBE(serie_obj_santamarta,serie_ref_santamarta) #Error MBE con respecto a la serie NREL."
   ]
  },
  {
   "cell_type": "code",
   "execution_count": 386,
   "metadata": {},
   "outputs": [
    {
     "data": {
      "text/plain": [
       "0.12869943952120402"
      ]
     },
     "execution_count": 386,
     "metadata": {},
     "output_type": "execute_result"
    }
   ],
   "source": [
    "calc_MBE(serie_obj_santamarta,santamarta_ajust_3meses) #Error MBE con respecto al ajuste con resolución de 3 meses."
   ]
  },
  {
   "cell_type": "code",
   "execution_count": 387,
   "metadata": {},
   "outputs": [
    {
     "data": {
      "text/plain": [
       "0.14962474684901159"
      ]
     },
     "execution_count": 387,
     "metadata": {},
     "output_type": "execute_result"
    }
   ],
   "source": [
    "calc_MBE(serie_obj_santamarta,santamarta_ajust_6meses) #Error MBE con respecto al ajuste con resolución de 6 meses."
   ]
  },
  {
   "cell_type": "code",
   "execution_count": 388,
   "metadata": {},
   "outputs": [
    {
     "data": {
      "text/plain": [
       "0.13083454323572924"
      ]
     },
     "execution_count": 388,
     "metadata": {},
     "output_type": "execute_result"
    }
   ],
   "source": [
    "calc_MBE(serie_obj_santamarta,santamarta_ajust_agno) #Error MBE con respecto al ajuste con resolución de un año."
   ]
  },
  {
   "cell_type": "code",
   "execution_count": 389,
   "metadata": {},
   "outputs": [
    {
     "data": {
      "text/plain": [
       "(0.027292950034223572, 4.1119524070226609e-23)"
      ]
     },
     "execution_count": 389,
     "metadata": {},
     "output_type": "execute_result"
    }
   ],
   "source": [
    "calc_KSI(serie_obj_santamarta,serie_ref_santamarta) #Error KSI con respecto a la serie NREL."
   ]
  },
  {
   "cell_type": "code",
   "execution_count": 390,
   "metadata": {},
   "outputs": [
    {
     "data": {
      "text/plain": [
       "(0.054799794661187569, 6.9265707751005769e-92)"
      ]
     },
     "execution_count": 390,
     "metadata": {},
     "output_type": "execute_result"
    }
   ],
   "source": [
    "calc_KSI(serie_obj_santamarta,santamarta_ajust_3meses) #Error KSI con respecto al ajuste con resolución de 3 meses."
   ]
  },
  {
   "cell_type": "code",
   "execution_count": 391,
   "metadata": {},
   "outputs": [
    {
     "data": {
      "text/plain": [
       "(0.061387748117723039, 3.3742640054942698e-115)"
      ]
     },
     "execution_count": 391,
     "metadata": {},
     "output_type": "execute_result"
    }
   ],
   "source": [
    "calc_KSI(serie_obj_santamarta,santamarta_ajust_6meses) #Error KSI con respecto al ajuste con resolución de 6 meses."
   ]
  },
  {
   "cell_type": "code",
   "execution_count": 392,
   "metadata": {},
   "outputs": [
    {
     "data": {
      "text/plain": [
       "(0.054999429614415916, 1.4891056624761232e-92)"
      ]
     },
     "execution_count": 392,
     "metadata": {},
     "output_type": "execute_result"
    }
   ],
   "source": [
    "calc_KSI(serie_obj_santamarta,santamarta_ajust_agno) #Error KSI con respecto al ajuste con resolución de un año."
   ]
  },
  {
   "cell_type": "markdown",
   "metadata": {},
   "source": [
    "- Es importante notar que, para esta región la función de ajuste parece no ayudar a relacionar los datos de NREL e IDEAM, sino que, por el contrario, la serie ajustada produce una gráfica considerablemente distinta de las series objetivo y referencia.\n",
    "- Los valores calculados de la ENFICC son mucho mayores (casi por una unidad) en el 2015 que en el 2008. Esto indica una variación de los niveles de radiación que puede explicarse con la presencia del fenómeno del Niño.\n",
    "- Los errores RMS aumentan ligeramente en el año que se presenta el Niño. Además, los errores MBE presentan aumentos de casi 10% en el 2015.\n",
    "\n",
    "En conclusión, el fenómeno del Niño parece tener una influencia sobre los niveles de radiación solar, aunque para confirmar sería preciso realizar un análisis con otras regiones en las cuales el ajuste ayude a arreglar la gráfica NREL."
   ]
  },
  {
   "cell_type": "markdown",
   "metadata": {},
   "source": [
    "A continuación, realizamos el análisis del fenómeno de la niña en la región de Sucre. Para esto, se toma como referencia el año 2006 y el año 2010 (cuando sucedió el fenómeno de la niña):"
   ]
  },
  {
   "cell_type": "markdown",
   "metadata": {},
   "source": [
    "#### Sucre (2006)"
   ]
  },
  {
   "cell_type": "code",
   "execution_count": 393,
   "metadata": {},
   "outputs": [
    {
     "name": "stdout",
     "output_type": "stream",
     "text": [
      "La ENFICC 99% es:  2.37964439946\n"
     ]
    },
    {
     "data": {
      "text/plain": [
       "2.3796443994605623"
      ]
     },
     "execution_count": 393,
     "metadata": {},
     "output_type": "execute_result"
    }
   ],
   "source": [
    "enficc(serie_obj_sucre) #Se obtiene la ENFICC según la serie IDEAM."
   ]
  },
  {
   "cell_type": "code",
   "execution_count": 394,
   "metadata": {},
   "outputs": [
    {
     "name": "stdout",
     "output_type": "stream",
     "text": [
      "La ENFICC 99% es:  4.8399985\n"
     ]
    },
    {
     "data": {
      "text/plain": [
       "4.8399984999999992"
      ]
     },
     "execution_count": 394,
     "metadata": {},
     "output_type": "execute_result"
    }
   ],
   "source": [
    "enficc(serie_ref_sucre) #Se obtiene la ENFICC según la serie NREL."
   ]
  },
  {
   "cell_type": "code",
   "execution_count": 395,
   "metadata": {},
   "outputs": [
    {
     "data": {
      "image/png": "[encoded data removed]",
      "text/plain": [
       "<matplotlib.figure.Figure at 0x7fb313496f98>"
      ]
     },
     "metadata": {},
     "output_type": "display_data"
    }
   ],
   "source": [
    "graph_compare(serie_obj_sucre,serie_ref_sucre) #Gráfica comparativa de serie IDEAM vs NREL."
   ]
  },
  {
   "cell_type": "code",
   "execution_count": 396,
   "metadata": {},
   "outputs": [],
   "source": [
    "#Se crean las series ajustadas dependiendo de su temporalidad.\n",
    "sucre_ajust_3meses = ajuste_MCP_3meses(serie_obj_sucre, serie_ref_sucre, 2006, 1)\n",
    "sucre_ajust_6meses = ajuste_MCP_6meses(serie_obj_sucre, serie_ref_sucre, 2006, 1)\n",
    "sucre_ajust_agno = ajuste_MCP_agno(serie_obj_sucre, serie_ref_sucre, 2006)"
   ]
  },
  {
   "cell_type": "code",
   "execution_count": 397,
   "metadata": {},
   "outputs": [
    {
     "name": "stdout",
     "output_type": "stream",
     "text": [
      "La ENFICC 99% es:  4.27838638604\n"
     ]
    },
    {
     "data": {
      "text/plain": [
       "4.2783863860427562"
      ]
     },
     "execution_count": 397,
     "metadata": {},
     "output_type": "execute_result"
    }
   ],
   "source": [
    "enficc(sucre_ajust_3meses) #Se obtiene la ENFICC según el ajuste de resolución de 3 meses. "
   ]
  },
  {
   "cell_type": "code",
   "execution_count": 398,
   "metadata": {},
   "outputs": [
    {
     "name": "stdout",
     "output_type": "stream",
     "text": [
      "La ENFICC 99% es:  4.36625620247\n"
     ]
    },
    {
     "data": {
      "text/plain": [
       "4.3662562024734495"
      ]
     },
     "execution_count": 398,
     "metadata": {},
     "output_type": "execute_result"
    }
   ],
   "source": [
    "enficc(sucre_ajust_6meses) #Se obtiene la ENFICC según el ajuste de resolución de 6 meses."
   ]
  },
  {
   "cell_type": "code",
   "execution_count": 399,
   "metadata": {},
   "outputs": [
    {
     "name": "stdout",
     "output_type": "stream",
     "text": [
      "La ENFICC 99% es:  4.39233206155\n"
     ]
    },
    {
     "data": {
      "text/plain": [
       "4.3923320615547405"
      ]
     },
     "execution_count": 399,
     "metadata": {},
     "output_type": "execute_result"
    }
   ],
   "source": [
    "enficc(sucre_ajust_agno) #Se obtiene la ENFICC según el ajuste de resolución de un año."
   ]
  },
  {
   "cell_type": "code",
   "execution_count": 400,
   "metadata": {},
   "outputs": [
    {
     "data": {
      "text/plain": [
       "<matplotlib.legend.Legend at 0x7fb312dc0e10>"
      ]
     },
     "execution_count": 400,
     "metadata": {},
     "output_type": "execute_result"
    },
    {
     "data": {
      "image/png": "[encoded data removed]",
      "text/plain": [
       "<matplotlib.figure.Figure at 0x7fb313520b38>"
      ]
     },
     "metadata": {},
     "output_type": "display_data"
    }
   ],
   "source": [
    "#Se grafica el ajuste con resolución de 3 meses.\n",
    "ghi_mensual_ajust = ghi_mensual(serie_obj_sucre, sucre_ajust_3meses)\n",
    "ghi_diario_ajust = ghi_dia(ghi_mensual_ajust)\n",
    "datos_ajustados = sorted(ghi_diario_ajust['PromedioDia'])\n",
    "\n",
    "ghi_mensual_NREL = ghi_mensual(serie_obj_sucre, serie_ref_sucre)\n",
    "ghi_diario_NREL = ghi_dia(ghi_mensual_NREL)\n",
    "datos_NREL = sorted(ghi_diario_NREL['PromedioDia'])\n",
    "\n",
    "ghi_mensual_IDEAM = ghi_mensual(serie_obj_sucre, serie_obj_sucre)\n",
    "ghi_diario_IDEAM = ghi_dia(ghi_mensual_IDEAM)\n",
    "datos_IDEAM = sorted(ghi_diario_IDEAM['PromedioDia'])\n",
    "\n",
    "numdatos_ajustados = range(len(datos_ajustados))\n",
    "numdatos_NREL = range(len(datos_NREL))\n",
    "numdatos_IDEAM = range(len(datos_IDEAM))\n",
    "\n",
    "pylab.title('Ajuste con resolución de tres meses')\n",
    "pylab.plot(numdatos_ajustados,datos_ajustados,'-k', label='Ajustados')\n",
    "pylab.plot(numdatos_NREL,datos_NREL,'-r', label='NREL')\n",
    "pylab.plot(numdatos_IDEAM,datos_IDEAM,'-b', label='IDEAM')\n",
    "pylab.legend(loc='upper left')\n"
   ]
  },
  {
   "cell_type": "code",
   "execution_count": 401,
   "metadata": {},
   "outputs": [
    {
     "data": {
      "text/plain": [
       "<matplotlib.legend.Legend at 0x7fb312dbe630>"
      ]
     },
     "execution_count": 401,
     "metadata": {},
     "output_type": "execute_result"
    },
    {
     "data": {
      "image/png": "[encoded data removed]",
      "text/plain": [
       "<matplotlib.figure.Figure at 0x7fb3131b49e8>"
      ]
     },
     "metadata": {},
     "output_type": "display_data"
    }
   ],
   "source": [
    "#Se grafica el ajuste con resolución de 6 meses.\n",
    "ghi_mensual_ajust = ghi_mensual(serie_obj_sucre, sucre_ajust_6meses)\n",
    "ghi_diario_ajust = ghi_dia(ghi_mensual_ajust)\n",
    "datos_ajustados = sorted(ghi_diario_ajust['PromedioDia'])\n",
    "\n",
    "ghi_mensual_NREL = ghi_mensual(serie_obj_sucre, serie_ref_sucre)\n",
    "ghi_diario_NREL = ghi_dia(ghi_mensual_NREL)\n",
    "datos_NREL = sorted(ghi_diario_NREL['PromedioDia'])\n",
    "\n",
    "ghi_mensual_IDEAM = ghi_mensual(serie_obj_sucre, serie_obj_sucre)\n",
    "ghi_diario_IDEAM = ghi_dia(ghi_mensual_IDEAM)\n",
    "datos_IDEAM = sorted(ghi_diario_IDEAM['PromedioDia'])\n",
    "\n",
    "numdatos_ajustados = range(len(datos_ajustados))\n",
    "numdatos_NREL = range(len(datos_NREL))\n",
    "numdatos_IDEAM = range(len(datos_IDEAM))\n",
    "\n",
    "pylab.title('Ajuste con resolución de seis meses')\n",
    "pylab.plot(numdatos_ajustados,datos_ajustados,'-k', label='Ajustados')\n",
    "pylab.plot(numdatos_NREL,datos_NREL,'-r', label='NREL')\n",
    "pylab.plot(numdatos_IDEAM,datos_IDEAM,'-b', label='IDEAM')\n",
    "pylab.legend(loc='upper left')\n"
   ]
  },
  {
   "cell_type": "code",
   "execution_count": 402,
   "metadata": {},
   "outputs": [
    {
     "data": {
      "text/plain": [
       "<matplotlib.legend.Legend at 0x7fb312d31e10>"
      ]
     },
     "execution_count": 402,
     "metadata": {},
     "output_type": "execute_result"
    },
    {
     "data": {
      "image/png": "[encoded data removed]",
      "text/plain": [
       "<matplotlib.figure.Figure at 0x7fb312d6d8d0>"
      ]
     },
     "metadata": {},
     "output_type": "display_data"
    }
   ],
   "source": [
    "#Se grafica el ajuste con resolución de un año.\n",
    "ghi_mensual_ajust = ghi_mensual(serie_obj_sucre, sucre_ajust_agno)\n",
    "ghi_diario_ajust = ghi_dia(ghi_mensual_ajust)\n",
    "datos_ajustados = sorted(ghi_diario_ajust['PromedioDia'])\n",
    "\n",
    "ghi_mensual_NREL = ghi_mensual(serie_obj_sucre, serie_ref_sucre)\n",
    "ghi_diario_NREL = ghi_dia(ghi_mensual_NREL)\n",
    "datos_NREL = sorted(ghi_diario_NREL['PromedioDia'])\n",
    "\n",
    "ghi_mensual_IDEAM = ghi_mensual(serie_obj_sucre, serie_obj_sucre)\n",
    "ghi_diario_IDEAM = ghi_dia(ghi_mensual_IDEAM)\n",
    "datos_IDEAM = sorted(ghi_diario_IDEAM['PromedioDia'])\n",
    "\n",
    "numdatos_ajustados = range(len(datos_ajustados))\n",
    "numdatos_NREL = range(len(datos_NREL))\n",
    "numdatos_IDEAM = range(len(datos_IDEAM))\n",
    "\n",
    "pylab.title('Ajuste con resolución de un año')\n",
    "pylab.plot(numdatos_ajustados,datos_ajustados,'-k', label='Ajustados')\n",
    "pylab.plot(numdatos_NREL,datos_NREL,'-r', label='NREL')\n",
    "pylab.plot(numdatos_IDEAM,datos_IDEAM,'-b', label='IDEAM')\n",
    "pylab.legend(loc='upper left')"
   ]
  },
  {
   "cell_type": "code",
   "execution_count": 403,
   "metadata": {},
   "outputs": [
    {
     "data": {
      "text/plain": [
       "0.12001598949829785"
      ]
     },
     "execution_count": 403,
     "metadata": {},
     "output_type": "execute_result"
    }
   ],
   "source": [
    "calc_RMSEn(serie_obj_sucre,serie_ref_sucre) #Error RMS con respecto a la serie NREL."
   ]
  },
  {
   "cell_type": "code",
   "execution_count": 404,
   "metadata": {},
   "outputs": [
    {
     "data": {
      "text/plain": [
       "0.10745357470062816"
      ]
     },
     "execution_count": 404,
     "metadata": {},
     "output_type": "execute_result"
    }
   ],
   "source": [
    "calc_RMSEn(serie_obj_sucre,sucre_ajust_3meses) #Error RMS con respecto al ajuste con resolución de 3 meses."
   ]
  },
  {
   "cell_type": "code",
   "execution_count": 405,
   "metadata": {},
   "outputs": [
    {
     "data": {
      "text/plain": [
       "0.10902868375429008"
      ]
     },
     "execution_count": 405,
     "metadata": {},
     "output_type": "execute_result"
    }
   ],
   "source": [
    "calc_RMSEn(serie_obj_sucre,sucre_ajust_6meses) #Error RMS con respecto al ajuste con resolución de 6 meses."
   ]
  },
  {
   "cell_type": "code",
   "execution_count": 406,
   "metadata": {},
   "outputs": [
    {
     "data": {
      "text/plain": [
       "0.10929920192300911"
      ]
     },
     "execution_count": 406,
     "metadata": {},
     "output_type": "execute_result"
    }
   ],
   "source": [
    "calc_RMSEn(serie_obj_sucre,sucre_ajust_agno) #Error RMS con respecto al ajuste con resolución de un año."
   ]
  },
  {
   "cell_type": "code",
   "execution_count": 407,
   "metadata": {},
   "outputs": [
    {
     "data": {
      "text/plain": [
       "0.17384141999352437"
      ]
     },
     "execution_count": 407,
     "metadata": {},
     "output_type": "execute_result"
    }
   ],
   "source": [
    "calc_MBE(serie_obj_sucre,serie_ref_sucre) #Error MBE con respecto a la serie NREL."
   ]
  },
  {
   "cell_type": "code",
   "execution_count": 408,
   "metadata": {},
   "outputs": [
    {
     "data": {
      "text/plain": [
       "0.040208655471956282"
      ]
     },
     "execution_count": 408,
     "metadata": {},
     "output_type": "execute_result"
    }
   ],
   "source": [
    "calc_MBE(serie_obj_sucre,sucre_ajust_3meses) #Error MBE con respecto al ajuste con resolución de 3 meses."
   ]
  },
  {
   "cell_type": "code",
   "execution_count": 409,
   "metadata": {},
   "outputs": [
    {
     "data": {
      "text/plain": [
       "0.06188156130216791"
      ]
     },
     "execution_count": 409,
     "metadata": {},
     "output_type": "execute_result"
    }
   ],
   "source": [
    "calc_MBE(serie_obj_sucre,sucre_ajust_6meses) #Error MBE con respecto al ajuste con resolución de 6 meses."
   ]
  },
  {
   "cell_type": "code",
   "execution_count": 410,
   "metadata": {},
   "outputs": [
    {
     "data": {
      "text/plain": [
       "0.067550465214598635"
      ]
     },
     "execution_count": 410,
     "metadata": {},
     "output_type": "execute_result"
    }
   ],
   "source": [
    "calc_MBE(serie_obj_sucre,sucre_ajust_agno) #Error MBE con respecto al ajuste con resolución de un año."
   ]
  },
  {
   "cell_type": "code",
   "execution_count": 411,
   "metadata": {},
   "outputs": [
    {
     "data": {
      "text/plain": [
       "(0.065067086527936163, 1.3934081933996356e-161)"
      ]
     },
     "execution_count": 411,
     "metadata": {},
     "output_type": "execute_result"
    }
   ],
   "source": [
    "calc_KSI(serie_obj_sucre,serie_ref_sucre) #Error KSI con respecto a la serie NREL."
   ]
  },
  {
   "cell_type": "code",
   "execution_count": 412,
   "metadata": {},
   "outputs": [
    {
     "data": {
      "text/plain": [
       "(0.035197608616282634, 1.3910014704393458e-47)"
      ]
     },
     "execution_count": 412,
     "metadata": {},
     "output_type": "execute_result"
    }
   ],
   "source": [
    "calc_KSI(serie_obj_sucre,sucre_ajust_3meses) #Error KSI con respecto al ajuste con resolución de 3 meses."
   ]
  },
  {
   "cell_type": "code",
   "execution_count": 413,
   "metadata": {},
   "outputs": [
    {
     "data": {
      "text/plain": [
       "(0.037342552026286752, 1.6619378935089402e-53)"
      ]
     },
     "execution_count": 413,
     "metadata": {},
     "output_type": "execute_result"
    }
   ],
   "source": [
    "calc_KSI(serie_obj_sucre,sucre_ajust_6meses) #Error KSI con respecto al ajuste con resolución de 6 meses."
   ]
  },
  {
   "cell_type": "code",
   "execution_count": 414,
   "metadata": {},
   "outputs": [
    {
     "data": {
      "text/plain": [
       "(0.038608981380065799, 3.6244570257137499e-57)"
      ]
     },
     "execution_count": 414,
     "metadata": {},
     "output_type": "execute_result"
    }
   ],
   "source": [
    "calc_KSI(serie_obj_sucre,sucre_ajust_agno) #Error KSI con respecto al ajuste con resolución de un año."
   ]
  },
  {
   "cell_type": "markdown",
   "metadata": {},
   "source": [
    "#### Sucre (2010)"
   ]
  },
  {
   "cell_type": "code",
   "execution_count": 415,
   "metadata": {},
   "outputs": [],
   "source": [
    "#Se crean las series ajustadas dependiendo de su temporalidad.\n",
    "sucre_ajust_3meses = ajuste_MCP_3meses(serie_obj_sucre, serie_ref_sucre, 2010, 1)\n",
    "sucre_ajust_6meses = ajuste_MCP_6meses(serie_obj_sucre, serie_ref_sucre, 2010, 1)\n",
    "sucre_ajust_agno = ajuste_MCP_agno(serie_obj_sucre, serie_ref_sucre, 2010)\n"
   ]
  },
  {
   "cell_type": "code",
   "execution_count": 416,
   "metadata": {},
   "outputs": [
    {
     "name": "stdout",
     "output_type": "stream",
     "text": [
      "La ENFICC 99% es:  4.32921794698\n"
     ]
    },
    {
     "data": {
      "text/plain": [
       "4.3292179469843761"
      ]
     },
     "execution_count": 416,
     "metadata": {},
     "output_type": "execute_result"
    }
   ],
   "source": [
    "enficc(sucre_ajust_3meses) #Se obtiene la ENFICC según el ajuste de resolución de 3 meses. "
   ]
  },
  {
   "cell_type": "code",
   "execution_count": 417,
   "metadata": {},
   "outputs": [
    {
     "name": "stdout",
     "output_type": "stream",
     "text": [
      "La ENFICC 99% es:  4.40342865965\n"
     ]
    },
    {
     "data": {
      "text/plain": [
       "4.403428659649693"
      ]
     },
     "execution_count": 417,
     "metadata": {},
     "output_type": "execute_result"
    }
   ],
   "source": [
    "enficc(sucre_ajust_6meses) #Se obtiene la ENFICC según el ajuste de resolución de 6 meses."
   ]
  },
  {
   "cell_type": "code",
   "execution_count": 418,
   "metadata": {},
   "outputs": [
    {
     "name": "stdout",
     "output_type": "stream",
     "text": [
      "La ENFICC 99% es:  4.3517498397\n"
     ]
    },
    {
     "data": {
      "text/plain": [
       "4.3517498396978223"
      ]
     },
     "execution_count": 418,
     "metadata": {},
     "output_type": "execute_result"
    }
   ],
   "source": [
    "enficc(sucre_ajust_agno) #Se obtiene la ENFICC según el ajuste de resolución de un año."
   ]
  },
  {
   "cell_type": "code",
   "execution_count": 419,
   "metadata": {},
   "outputs": [
    {
     "data": {
      "text/plain": [
       "<matplotlib.legend.Legend at 0x7fb312c44630>"
      ]
     },
     "execution_count": 419,
     "metadata": {},
     "output_type": "execute_result"
    },
    {
     "data": {
      "image/png": "[encoded data removed]",
      "text/plain": [
       "<matplotlib.figure.Figure at 0x7fb312c96dd8>"
      ]
     },
     "metadata": {},
     "output_type": "display_data"
    }
   ],
   "source": [
    "#Se grafica el ajuste con resolución de 3 meses.\n",
    "ghi_mensual_ajust = ghi_mensual(serie_obj_sucre, sucre_ajust_3meses)\n",
    "ghi_diario_ajust = ghi_dia(ghi_mensual_ajust)\n",
    "datos_ajustados = sorted(ghi_diario_ajust['PromedioDia'])\n",
    "\n",
    "ghi_mensual_NREL = ghi_mensual(serie_obj_sucre, serie_ref_sucre)\n",
    "ghi_diario_NREL = ghi_dia(ghi_mensual_NREL)\n",
    "datos_NREL = sorted(ghi_diario_NREL['PromedioDia'])\n",
    "\n",
    "ghi_mensual_IDEAM = ghi_mensual(serie_obj_sucre, serie_obj_sucre)\n",
    "ghi_diario_IDEAM = ghi_dia(ghi_mensual_IDEAM)\n",
    "datos_IDEAM = sorted(ghi_diario_IDEAM['PromedioDia'])\n",
    "\n",
    "numdatos_ajustados = range(len(datos_ajustados))\n",
    "numdatos_NREL = range(len(datos_NREL))\n",
    "numdatos_IDEAM = range(len(datos_IDEAM))\n",
    "\n",
    "pylab.title('Ajuste con resolución de tres meses')\n",
    "pylab.plot(numdatos_ajustados,datos_ajustados,'-k', label='Ajustados')\n",
    "pylab.plot(numdatos_NREL,datos_NREL,'-r', label='NREL')\n",
    "pylab.plot(numdatos_IDEAM,datos_IDEAM,'-b', label='IDEAM')\n",
    "pylab.legend(loc='upper left')\n"
   ]
  },
  {
   "cell_type": "code",
   "execution_count": 420,
   "metadata": {},
   "outputs": [
    {
     "data": {
      "text/plain": [
       "<matplotlib.legend.Legend at 0x7fb3129fae80>"
      ]
     },
     "execution_count": 420,
     "metadata": {},
     "output_type": "execute_result"
    },
    {
     "data": {
      "image/png": "[encoded data removed]",
      "text/plain": [
       "<matplotlib.figure.Figure at 0x7fb312c963c8>"
      ]
     },
     "metadata": {},
     "output_type": "display_data"
    }
   ],
   "source": [
    "#Se grafica el ajuste con resolución de 6 meses.\n",
    "ghi_mensual_ajust = ghi_mensual(serie_obj_sucre, sucre_ajust_6meses)\n",
    "ghi_diario_ajust = ghi_dia(ghi_mensual_ajust)\n",
    "datos_ajustados = sorted(ghi_diario_ajust['PromedioDia'])\n",
    "\n",
    "ghi_mensual_NREL = ghi_mensual(serie_obj_sucre, serie_ref_sucre)\n",
    "ghi_diario_NREL = ghi_dia(ghi_mensual_NREL)\n",
    "datos_NREL = sorted(ghi_diario_NREL['PromedioDia'])\n",
    "\n",
    "ghi_mensual_IDEAM = ghi_mensual(serie_obj_sucre, serie_obj_sucre)\n",
    "ghi_diario_IDEAM = ghi_dia(ghi_mensual_IDEAM)\n",
    "datos_IDEAM = sorted(ghi_diario_IDEAM['PromedioDia'])\n",
    "\n",
    "numdatos_ajustados = range(len(datos_ajustados))\n",
    "numdatos_NREL = range(len(datos_NREL))\n",
    "numdatos_IDEAM = range(len(datos_IDEAM))\n",
    "\n",
    "pylab.title('Ajuste con resolución de seis meses')\n",
    "pylab.plot(numdatos_ajustados,datos_ajustados,'-k', label='Ajustados')\n",
    "pylab.plot(numdatos_NREL,datos_NREL,'-r', label='NREL')\n",
    "pylab.plot(numdatos_IDEAM,datos_IDEAM,'-b', label='IDEAM')\n",
    "pylab.legend(loc='upper left')\n"
   ]
  },
  {
   "cell_type": "code",
   "execution_count": 421,
   "metadata": {},
   "outputs": [
    {
     "data": {
      "text/plain": [
       "<matplotlib.legend.Legend at 0x7fb31297b630>"
      ]
     },
     "execution_count": 421,
     "metadata": {},
     "output_type": "execute_result"
    },
    {
     "data": {
      "image/png": "[encoded data removed]",
      "text/plain": [
       "<matplotlib.figure.Figure at 0x7fb3129ce160>"
      ]
     },
     "metadata": {},
     "output_type": "display_data"
    }
   ],
   "source": [
    "#Se grafica el ajuste con resolución de un año.\n",
    "ghi_mensual_ajust = ghi_mensual(serie_obj_sucre, sucre_ajust_agno)\n",
    "ghi_diario_ajust = ghi_dia(ghi_mensual_ajust)\n",
    "datos_ajustados = sorted(ghi_diario_ajust['PromedioDia'])\n",
    "\n",
    "ghi_mensual_NREL = ghi_mensual(serie_obj_sucre, serie_ref_sucre)\n",
    "ghi_diario_NREL = ghi_dia(ghi_mensual_NREL)\n",
    "datos_NREL = sorted(ghi_diario_NREL['PromedioDia'])\n",
    "\n",
    "ghi_mensual_IDEAM = ghi_mensual(serie_obj_sucre, serie_obj_sucre)\n",
    "ghi_diario_IDEAM = ghi_dia(ghi_mensual_IDEAM)\n",
    "datos_IDEAM = sorted(ghi_diario_IDEAM['PromedioDia'])\n",
    "\n",
    "numdatos_ajustados = range(len(datos_ajustados))\n",
    "numdatos_NREL = range(len(datos_NREL))\n",
    "numdatos_IDEAM = range(len(datos_IDEAM))\n",
    "\n",
    "pylab.title('Ajuste con resolución de un año')\n",
    "pylab.plot(numdatos_ajustados,datos_ajustados,'-k', label='Ajustados')\n",
    "pylab.plot(numdatos_NREL,datos_NREL,'-r', label='NREL')\n",
    "pylab.plot(numdatos_IDEAM,datos_IDEAM,'-b', label='IDEAM')\n",
    "pylab.legend(loc='upper left')\n"
   ]
  },
  {
   "cell_type": "code",
   "execution_count": 422,
   "metadata": {},
   "outputs": [
    {
     "data": {
      "text/plain": [
       "0.12001598949829785"
      ]
     },
     "execution_count": 422,
     "metadata": {},
     "output_type": "execute_result"
    }
   ],
   "source": [
    "calc_RMSEn(serie_obj_sucre,serie_ref_sucre) #Error RMS con respecto a la serie NREL."
   ]
  },
  {
   "cell_type": "code",
   "execution_count": 423,
   "metadata": {},
   "outputs": [
    {
     "data": {
      "text/plain": [
       "0.10804336098186705"
      ]
     },
     "execution_count": 423,
     "metadata": {},
     "output_type": "execute_result"
    }
   ],
   "source": [
    "calc_RMSEn(serie_obj_sucre,sucre_ajust_3meses) #Error RMS con respecto al ajuste con resolución de 3 meses."
   ]
  },
  {
   "cell_type": "code",
   "execution_count": 424,
   "metadata": {},
   "outputs": [
    {
     "data": {
      "text/plain": [
       "0.10949449176289046"
      ]
     },
     "execution_count": 424,
     "metadata": {},
     "output_type": "execute_result"
    }
   ],
   "source": [
    "calc_RMSEn(serie_obj_sucre,sucre_ajust_6meses) #Error RMS con respecto al ajuste con resolución de 6 meses."
   ]
  },
  {
   "cell_type": "code",
   "execution_count": 425,
   "metadata": {},
   "outputs": [
    {
     "data": {
      "text/plain": [
       "0.10866879542125969"
      ]
     },
     "execution_count": 425,
     "metadata": {},
     "output_type": "execute_result"
    }
   ],
   "source": [
    "calc_RMSEn(serie_obj_sucre,sucre_ajust_agno) #Error RMS con respecto al ajuste con resolución de un año."
   ]
  },
  {
   "cell_type": "code",
   "execution_count": 426,
   "metadata": {},
   "outputs": [
    {
     "data": {
      "text/plain": [
       "0.17384141999352437"
      ]
     },
     "execution_count": 426,
     "metadata": {},
     "output_type": "execute_result"
    }
   ],
   "source": [
    "calc_MBE(serie_obj_sucre,serie_ref_sucre) #Error MBE con respecto a la serie NREL."
   ]
  },
  {
   "cell_type": "code",
   "execution_count": 427,
   "metadata": {},
   "outputs": [
    {
     "data": {
      "text/plain": [
       "0.051840960649480683"
      ]
     },
     "execution_count": 427,
     "metadata": {},
     "output_type": "execute_result"
    }
   ],
   "source": [
    "calc_MBE(serie_obj_sucre,sucre_ajust_3meses) #Error MBE con respecto al ajuste con resolución de 3 meses."
   ]
  },
  {
   "cell_type": "code",
   "execution_count": 428,
   "metadata": {},
   "outputs": [
    {
     "data": {
      "text/plain": [
       "0.070187568967753203"
      ]
     },
     "execution_count": 428,
     "metadata": {},
     "output_type": "execute_result"
    }
   ],
   "source": [
    "calc_MBE(serie_obj_sucre,sucre_ajust_6meses) #Error MBE con respecto al ajuste con resolución de 6 meses."
   ]
  },
  {
   "cell_type": "code",
   "execution_count": 429,
   "metadata": {},
   "outputs": [
    {
     "data": {
      "text/plain": [
       "0.058059067058790728"
      ]
     },
     "execution_count": 429,
     "metadata": {},
     "output_type": "execute_result"
    }
   ],
   "source": [
    "calc_MBE(serie_obj_sucre,sucre_ajust_agno) #Error MBE con respecto al ajuste con resolución de un año."
   ]
  },
  {
   "cell_type": "code",
   "execution_count": 430,
   "metadata": {},
   "outputs": [
    {
     "data": {
      "text/plain": [
       "(0.065067086527936163, 1.3934081933996356e-161)"
      ]
     },
     "execution_count": 430,
     "metadata": {},
     "output_type": "execute_result"
    }
   ],
   "source": [
    "calc_KSI(serie_obj_sucre,serie_ref_sucre) #Error KSI con respecto a la serie NREL."
   ]
  },
  {
   "cell_type": "code",
   "execution_count": 431,
   "metadata": {},
   "outputs": [
    {
     "data": {
      "text/plain": [
       "(0.034444596568089653, 1.3788355329217402e-45)"
      ]
     },
     "execution_count": 431,
     "metadata": {},
     "output_type": "execute_result"
    }
   ],
   "source": [
    "calc_KSI(serie_obj_sucre,sucre_ajust_3meses) #Error KSI con respecto al ajuste con resolución de 3 meses."
   ]
  },
  {
   "cell_type": "code",
   "execution_count": 432,
   "metadata": {},
   "outputs": [
    {
     "data": {
      "text/plain": [
       "(0.039225082146769119, 5.4185879008916727e-59)"
      ]
     },
     "execution_count": 432,
     "metadata": {},
     "output_type": "execute_result"
    }
   ],
   "source": [
    "calc_KSI(serie_obj_sucre,sucre_ajust_6meses) #Error KSI con respecto al ajuste con resolución de 6 meses."
   ]
  },
  {
   "cell_type": "code",
   "execution_count": 433,
   "metadata": {},
   "outputs": [
    {
     "data": {
      "text/plain": [
       "(0.036372763782401896, 8.7461708282754077e-51)"
      ]
     },
     "execution_count": 433,
     "metadata": {},
     "output_type": "execute_result"
    }
   ],
   "source": [
    "calc_KSI(serie_obj_sucre,sucre_ajust_agno) #Error KSI con respecto al ajuste con resolución de un año."
   ]
  },
  {
   "cell_type": "markdown",
   "metadata": {},
   "source": [
    "- Al contrario del ejemplo pasado, en el cual podíamos ver que el fenómeno del Niño cambiaba los valores obtenidos significativamente, en este caso no vemos mayores cambios entre los periodos de tiempo. \n",
    "- Esto nos indica dos posibilidades: el fenómeno de la Niña no parece tener una incidencia sobre el nivel de radiación, o el fenómeno del Niño no tiene incidencia sobre el nivel de radiación, y los cambios en los valores vistos en el ejemplo anterior se deben a que la gráfica MCP no ajusta bien los datos satelitales."
   ]
  }
 ],
 "metadata": {
  "kernelspec": {
   "display_name": "Python 3.6",
   "language": "python",
   "name": "python36"
  },
  "language_info": {
   "codemirror_mode": {
    "name": "ipython",
    "version": 3
   },
   "file_extension": ".py",
   "mimetype": "text/x-python",
   "name": "python",
   "nbconvert_exporter": "python",
   "pygments_lexer": "ipython3",
   "version": "3.6.3"
  },
  "widgets": {
   "application/vnd.jupyter.widget-state+json": {
    "state": {},
    "version_major": 2,
    "version_minor": 0
   }
  }
 },
 "nbformat": 4,
 "nbformat_minor": 2
}
