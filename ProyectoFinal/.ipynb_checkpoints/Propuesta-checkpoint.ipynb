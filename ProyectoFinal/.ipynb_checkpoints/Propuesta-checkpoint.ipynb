{
 "cells": [
  {
   "cell_type": "markdown",
   "metadata": {
    "collapsed": true
   },
   "source": [
    "# Propuesta de proyecto final - Reconocimiento de razas de perros"
   ]
  },
  {
   "cell_type": "markdown",
   "metadata": {},
   "source": [
    "### Orianna Sanguino (201413158)\n",
    "### Juan Daniel Torres (201414896)"
   ]
  },
  {
   "cell_type": "markdown",
   "metadata": {},
   "source": [
    "### 1) Introducción"
   ]
  },
  {
   "cell_type": "markdown",
   "metadata": {},
   "source": [
    "Este proyecto toma como base una competencia de Kaggle [1] en la cual los concursantes deben realizar un código el cual logre identificar correctamente la raza de un perro en una imagen a partir de un set de fotos de perros dado por el concurso [2] . En este set de información se tiene 120 razas de perros y un número limitado de imágenes de entrenamiento por raza. \n",
    "\n",
    "Como base para el proyecto, se espera usar extensivamente el conocimiento sobre redes neuronales aprendido en el curso [3] y para complementar y facilitar la realización del proyecto se usará la librería Keras, debido a su simpleza, alta modularidad y facilidad de aplicación para el aprendizaje profundo. Esta biblioteca ya se ha empleado con anterioridad para crear código de reconocimiento de imágenes [4] [5]  con un nivel bastante alto de éxito. "
   ]
  },
  {
   "cell_type": "markdown",
   "metadata": {},
   "source": [
    "### 2) Objetivos "
   ]
  },
  {
   "cell_type": "markdown",
   "metadata": {},
   "source": [
    "- Realizar una red neuronal capaz de identificar imágenes de perros.\n",
    "- Usar el set de imágenes proveído por el concurso para entrenar dicha red neuronal.\n",
    "- Predecir una probabilidad para cada una de las distintas razas por cada imagen en el set de pruebas.\n",
    "- Optimizar los parámetros de dicha red neuronal para reducir el error en la predicción\n",
    "- Corroborar el funcionamiento del modelo comparando con fotos por fuera del dataset dado.\n"
   ]
  },
  {
   "cell_type": "markdown",
   "metadata": {},
   "source": [
    "### Referencias\n",
    "- [1] https://www.kaggle.com/c/dog-breed-identification\n",
    "- [2] http://vision.stanford.edu/aditya86/ImageNetDogs/\n",
    "- [3] https://www.coursera.org/learn/neural-networks-deep-learning/home/welcome\n",
    "- [4] https://blog.keras.io/building-powerful-image-classification-models-using-very-little-data.html\n",
    "- [5] https://www.kaggle.com/c/imagenet-object-detection-challenge\n"
   ]
  },
  {
   "cell_type": "code",
   "execution_count": null,
   "metadata": {},
   "outputs": [],
   "source": []
  }
 ],
 "metadata": {
  "kernelspec": {
   "display_name": "Python 3.6",
   "language": "python",
   "name": "python36"
  },
  "language_info": {
   "codemirror_mode": {
    "name": "ipython",
    "version": 3
   },
   "file_extension": ".py",
   "mimetype": "text/x-python",
   "name": "python",
   "nbconvert_exporter": "python",
   "pygments_lexer": "ipython3",
   "version": "3.6.3"
  }
 },
 "nbformat": 4,
 "nbformat_minor": 2
}
